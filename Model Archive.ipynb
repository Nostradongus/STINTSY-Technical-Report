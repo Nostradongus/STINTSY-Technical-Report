{
 "cells": [
  {
   "cell_type": "markdown",
   "id": "bbc512ad",
   "metadata": {},
   "source": [
    "# Model Archive\n",
    "An archive containing trained, but unused, models for the STINTSY final project."
   ]
  },
  {
   "cell_type": "markdown",
   "id": "721d417d",
   "metadata": {},
   "source": [
    "### SqueezeNet Models"
   ]
  },
  {
   "cell_type": "markdown",
   "id": "ea2f1760",
   "metadata": {},
   "source": [
    "##### **SqueezeNet Trial #2**\n",
    "Added an additional layer with more squeeze and expand layers over the basic model.\n",
    "\n",
    "**Results (using `.evaluate()`):**\n",
    "* Train Loss: `0.09441367536783218`\n",
    "* Train Accuracy: `0.7733911275863647`\n",
    "* Test Loss: `0.14072342216968536`\n",
    "* Test Accuracy: `0.7737226486206055`\n",
    "\n",
    "Saved as `squeezenet_test_2`."
   ]
  },
  {
   "cell_type": "code",
   "execution_count": null,
   "id": "f0ddb901",
   "metadata": {},
   "outputs": [],
   "source": [
    "x = Input(shape=[256, 256, 3])\n",
    "\n",
    "y = Conv2D(kernel_size=3, filters=32, padding='same', activation='relu')(x)\n",
    "y = tf.keras.layers.BatchNormalization(momentum=0.9)(y)\n",
    "y = fire_module(24, 48)(y)\n",
    "y = MaxPooling2D(pool_size=2)(y)\n",
    "y = fire_module(48, 96)(y)\n",
    "y = MaxPooling2D(pool_size=2)(y)\n",
    "y = fire_module(24, 48)(y)\n",
    "y = GlobalAveragePooling2D()(y)\n",
    "y = Dense(2, activation='sigmoid')(y)\n",
    "\n",
    "squeezenet = Model(x, y)\n",
    "\n",
    "squeezenet.compile(loss='binary_crossentropy', optimizer='adam', metrics=['accuracy'])\n",
    "\n",
    "# squeezenet.fit(X_train, y_train, batch_size=32, epochs=50, validation_data=(X_val, y_val), callbacks=[es])"
   ]
  },
  {
   "cell_type": "markdown",
   "id": "39ba6ede",
   "metadata": {},
   "source": [
    "##### **SqueezeNet Trial #3**\n",
    "An extension of what was done in `Trial #2`.\n",
    "\n",
    "**Results (using `.evaluate()`):**\n",
    "* Train Loss: `0.049111880362033844`\n",
    "* Train Accuracy: `0.8044272065162659`\n",
    "* Test Loss: `0.11009380221366882`\n",
    "* Test Accuracy: `0.7992700934410095`\n",
    "\n",
    "Saved as `squeezenet_test_3`."
   ]
  },
  {
   "cell_type": "code",
   "execution_count": null,
   "id": "31a88c6a",
   "metadata": {},
   "outputs": [],
   "source": [
    "# usage:\n",
    "x = Input(shape=[256, 256, 3])\n",
    "\n",
    "y = Conv2D(kernel_size=3, filters=32, padding='same', activation='relu')(x)\n",
    "y = tf.keras.layers.BatchNormalization(momentum=0.9)(y)\n",
    "y = fire_module(24, 48)(y)\n",
    "y = MaxPooling2D(pool_size=2)(y)\n",
    "y = fire_module(48, 96)(y)\n",
    "y = MaxPooling2D(pool_size=2)(y)\n",
    "y = fire_module(64, 128)(y)\n",
    "y = MaxPooling2D(pool_size=2)(y)\n",
    "y = fire_module(48, 96)(y)\n",
    "y = MaxPooling2D(pool_size=2)(y)\n",
    "y = fire_module(24, 48)(y)\n",
    "y = GlobalAveragePooling2D()(y)\n",
    "y = Dense(2, activation='sigmoid')(y)\n",
    "\n",
    "squeezenet = Model(x, y)\n",
    "\n",
    "squeezenet.compile(loss='binary_crossentropy', optimizer='adam', metrics=['accuracy'])\n",
    "\n",
    "# squeezenet.fit(X_train, y_train, batch_size=32, epochs=50, validation_data=(X_val, y_val), callbacks=[es])"
   ]
  },
  {
   "cell_type": "markdown",
   "id": "3cd12975",
   "metadata": {},
   "source": [
    "##### **SqueezeNet Trial #4**\n",
    "The original architecture. However, **untrained** due to hardware constraints.\n",
    "\n",
    "Supposedly to be saved as `squeezenet_test_original`."
   ]
  },
  {
   "cell_type": "code",
   "execution_count": null,
   "id": "a9471732",
   "metadata": {},
   "outputs": [],
   "source": [
    "# SqueezeNet base architecture\n",
    "x = Input(shape=[256, 256, 3]) # input image\n",
    "\n",
    "y = Conv2D(kernel_size=7, strides=2, filters=96, padding='same', activation='relu')(x) # conv1\n",
    "y = BatchNormalization(momentum=0.9)(y)\n",
    "\n",
    "y = MaxPooling2D(pool_size=3, strides=2)(y)\n",
    "\n",
    "y = fire_module(16, 128)(y) # fire2\n",
    "y = fire_module(16, 128)(y) # fire3\n",
    "y = fire_module(32, 256)(y) # fire4\n",
    "\n",
    "y = MaxPooling2D(pool_size=3, strides=2)(y)\n",
    "\n",
    "y = fire_module(32, 256)(y) # fire5\n",
    "y = fire_module(48, 384)(y) # fire6\n",
    "y = fire_module(48, 384)(y) # fire7\n",
    "y = fire_module(64, 512)(y) # fire8\n",
    "\n",
    "y = MaxPooling2D(pool_size=3, strides=2)(y)\n",
    "\n",
    "y = fire_module(64, 512)(y) # fire9\n",
    "\n",
    "y = Conv2D(kernel_size=1, strides=1, filters=1000, padding='same', activation='relu')(x) # conv10\n",
    "y = BatchNormalization(momentum=0.9)(y)\n",
    "\n",
    "y = AveragePooling2D(pool_size=13, strides=1)(y) # avgpool10\n",
    "y = Flatten()(y)\n",
    "y = Dense(2, activation='sigmoid')(y)\n",
    "\n",
    "squeezenet = Model(x, y)\n",
    "\n",
    "squeezenet.compile(loss='binary_crossentropy', optimizer='adam', metrics=['accuracy'])\n",
    "\n",
    "# squeezenet.fit(X_train, y_train, batch_size=64, epochs=50, validation_data=(X_val, y_val), callbacks=[es])"
   ]
  },
  {
   "cell_type": "markdown",
   "id": "38451888",
   "metadata": {},
   "source": [
    "### InceptionNetv3 Models"
   ]
  },
  {
   "cell_type": "markdown",
   "id": "8741c4b4",
   "metadata": {},
   "source": [
    "##### **InceptionNetv3 Trial #1**\n",
    "Basic configuration in accordance with the reference material.\n",
    "\n",
    "**Results (using `compute_accuracy()`):**\n",
    "* Train Loss: `?`\n",
    "* Train Accuracy: `0.9132816065723414`\n",
    "* Test Loss: `?`\n",
    "* Test Accuracy: `0.7481751824817519`\n",
    "\n",
    "Saved as `inceptionnetv3`."
   ]
  },
  {
   "cell_type": "code",
   "execution_count": null,
   "id": "a1da33d6",
   "metadata": {},
   "outputs": [],
   "source": [
    "inceptionv3 = InceptionV3(weights=\"imagenet\", include_top=False, input_shape=(256, 256, 3))\n",
    "\n",
    "for layer in inceptionv3.layers:\n",
    "    layer.trainable = False\n",
    "\n",
    "model = inceptionv3.output\n",
    "model = MaxPooling2D(pool_size=(5,5), strides=(2,2))(model)\n",
    "model = Flatten()(model)\n",
    "model = Dense(4096, activation=\"relu\")(model)\n",
    "model = Dropout(0.1)(model)\n",
    "output = Dense(2, activation=\"sigmoid\")(model)\n",
    "\n",
    "model = Model(inputs=inceptionv3.input, outputs=output)\n",
    "\n",
    "model.compile(loss=\"binary_crossentropy\", optimizer=\"adam\", metrics=[\"accuracy\"])\n",
    "\n",
    "# model.fit(X_train, y_train, batch_size=32, epochs=50, validation_data=(X_val, y_val), callbacks=[es])"
   ]
  },
  {
   "cell_type": "markdown",
   "id": "21bf8f7f",
   "metadata": {},
   "source": [
    "##### **InceptionNetv3 Trial #2**\n",
    "Basic configuration in accordance with the reference material.\n",
    "\n",
    "**Results (using `.evaluate()`):**\n",
    "* Train Loss: `0.3165103495121002`\n",
    "* Train Accuracy: `0.7975810170173645`\n",
    "* Test Loss: `0.4041557312011719`\n",
    "* Test Accuracy: `0.7846715450286865`\n",
    "\n",
    "Saved as `inceptionnetv3_test_2`."
   ]
  },
  {
   "cell_type": "code",
   "execution_count": null,
   "id": "f25def03",
   "metadata": {},
   "outputs": [],
   "source": [
    "inceptionv3 = InceptionV3(weights=\"imagenet\", include_top=False, input_shape=(256, 256, 3))\n",
    "\n",
    "for layer in inceptionv3.layers:\n",
    "    layer.trainable = False\n",
    "\n",
    "model = inceptionv3.output\n",
    "model = MaxPooling2D(pool_size=(5,5), strides=(2,2))(model)\n",
    "model = Flatten()(model)\n",
    "model = Dense(4096, activation=\"relu\")(model)\n",
    "model = Dropout(0.5)(model)\n",
    "model = BatchNormalization(momentum=0.9)(model)\n",
    "output = Dense(2, activation=\"sigmoid\")(model)\n",
    "\n",
    "model = Model(inputs=inceptionv3.input, outputs=output)\n",
    "\n",
    "model.compile(loss=\"binary_crossentropy\", optimizer=\"adam\", metrics=[\"accuracy\"])\n",
    "\n",
    "model.fit(X_train, y_train, batch_size=64, epochs=50, validation_data=(X_val, y_val), callbacks=[es])"
   ]
  },
  {
   "cell_type": "markdown",
   "id": "9c483a6a",
   "metadata": {},
   "source": [
    "##### **InceptionNetv3 Trial #3**\n",
    "Slightly modified variation of `Trial #2`\n",
    "\n",
    "**Results (using `.evaluate()`):**\n",
    "* Train Loss: `0.1997770220041275`\n",
    "* Train Accuracy: `0.7759014368057251`\n",
    "* Test Loss: `0.4463457465171814`\n",
    "* Test Accuracy: `0.7572992444038391`\n",
    "\n",
    "Saved as `inceptionnetv3_test_3`."
   ]
  },
  {
   "cell_type": "code",
   "execution_count": null,
   "id": "29659edc",
   "metadata": {},
   "outputs": [],
   "source": [
    "inceptionv3 = InceptionV3(weights=\"imagenet\", include_top=False, input_shape=(256, 256, 3))\n",
    "\n",
    "for layer in inceptionv3.layers:\n",
    "    layer.trainable = False\n",
    "\n",
    "model = inceptionv3.output\n",
    "model = MaxPooling2D(pool_size=(5,5), strides=(2,2))(model)\n",
    "# model = Flatten()(model)\n",
    "\n",
    "# additional convolution layer\n",
    "model = Conv2D(filters=256, kernel_size=(5,5), strides=(2,2), padding=\"same\", activation=\"relu\")(model)\n",
    "# additional batch normalization layer\n",
    "model = BatchNormalization(momentum=0.9)(model)\n",
    "# additional max pooling 2d layer\n",
    "# model = MaxPooling2D(pool_size=(5,5), strides=(2,2))(model)\n",
    "model = Flatten()(model)\n",
    "\n",
    "model = Dense(4096, activation=\"relu\")(model)\n",
    "model = Dropout(0.5)(model)\n",
    "model = BatchNormalization(momentum=0.9)(model)\n",
    "output = Dense(2, activation=\"sigmoid\")(model)\n",
    "\n",
    "model = Model(inputs=inceptionv3.input, outputs=output)\n",
    "\n",
    "model.compile(loss=\"binary_crossentropy\", optimizer=\"adam\", metrics=[\"accuracy\"])\n",
    "\n",
    "# model.fit(X_train, y_train, batch_size=64, epochs=50, validation_data=(X_val, y_val), callbacks=[es])"
   ]
  },
  {
   "cell_type": "markdown",
   "id": "7ffa08b8",
   "metadata": {},
   "source": [
    "##### **InceptionNetv3 Trial #4**\n",
    "Most successful run.\n",
    "\n",
    "**Results (using `.evaluate()`):**\n",
    "* Train Loss: `0.17589150369167328`\n",
    "* Train Accuracy: `0.829529881477356`\n",
    "* Test Loss: `0.4324345290660858`\n",
    "* Test Accuracy: `0.8065693378448486`\n",
    "\n",
    "Saved as `inceptionnetv3_test_4`."
   ]
  },
  {
   "cell_type": "code",
   "execution_count": null,
   "id": "c0d15398",
   "metadata": {},
   "outputs": [],
   "source": [
    "inceptionv3 = InceptionV3(weights=\"imagenet\", include_top=False, input_shape=(256, 256, 3))\n",
    "\n",
    "for layer in inceptionv3.layers:\n",
    "    layer.trainable = False\n",
    "\n",
    "model = inceptionv3.output\n",
    "model = MaxPooling2D(pool_size=(5,5), strides=(2,2))(model)\n",
    "# model = Flatten()(model)\n",
    "\n",
    "# additional convolution layer\n",
    "model = Conv2D(filters=256, kernel_size=(5,5), strides=(2,2), padding=\"same\", activation=\"relu\")(model)\n",
    "# additional batch normalization layer\n",
    "model = BatchNormalization(momentum=0.9)(model)\n",
    "# additional max pooling 2d layer\n",
    "# model = MaxPooling2D(pool_size=(5,5), strides=(2,2))(model)\n",
    "model = Flatten()(model)\n",
    "\n",
    "model = Dense(4096, activation=\"relu\")(model)\n",
    "model = Dropout(0.5)(model)\n",
    "output = Dense(2, activation=\"sigmoid\")(model)\n",
    "\n",
    "model = Model(inputs=inceptionv3.input, outputs=output)\n",
    "\n",
    "model.compile(loss=\"binary_crossentropy\", optimizer=\"adam\", metrics=[\"accuracy\"])\n",
    "\n",
    "# model.fit(X_train, y_train, batch_size=64, epochs=50, validation_data=(X_val, y_val), callbacks=[es])"
   ]
  }
 ],
 "metadata": {
  "kernelspec": {
   "display_name": "Python 3 (ipykernel)",
   "language": "python",
   "name": "python3"
  },
  "language_info": {
   "codemirror_mode": {
    "name": "ipython",
    "version": 3
   },
   "file_extension": ".py",
   "mimetype": "text/x-python",
   "name": "python",
   "nbconvert_exporter": "python",
   "pygments_lexer": "ipython3",
   "version": "3.9.7"
  }
 },
 "nbformat": 4,
 "nbformat_minor": 5
}
