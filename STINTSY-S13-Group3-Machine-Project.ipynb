{
 "cells": [
  {
   "cell_type": "markdown",
   "id": "49e5afd8",
   "metadata": {},
   "source": [
    "# **Towards Building An Effective Multi-Label Image Classification Model** <br>\n",
    "\n",
    "## **STINTSY Technical Report**\n",
    "\n",
    "### **S14 - Group 3**:\n",
    "- Jadie, Joshue Salvador A.\n",
    "- Lopez, Angel L.\n",
    "- Ponce, Andre Dominic H.\n",
    "\n",
    "<br>\n",
    "\n",
    "##### **Last Updated**: 06/28/22"
   ]
  },
  {
   "cell_type": "markdown",
   "id": "d41b22c8",
   "metadata": {},
   "source": [
    "#### **TODO: Delete this cell after technical report notebook is already done.**\n",
    "\n",
    "Notes:\n",
    "* Do not use **softmax** as output activation function for multilabel classification. Softmax is only applicable for mutually exclusive classes, e.g. either cat or dog but not both. Softmax outputs all add to 1, so cannot be applied to multilabel wherein a single instance can be classified with two or more labels.\n",
    "* Convolutional Neural Networks (CNNs) models will be used towards doing the task. The planned models to use and evaluate with are: **AlexNet**, **VGGNet**, **ResNet**, and **DenseNet**."
   ]
  },
  {
   "cell_type": "markdown",
   "id": "50945308",
   "metadata": {},
   "source": [
    "## **Problem**"
   ]
  },
  {
   "cell_type": "markdown",
   "id": "4d5b93c8",
   "metadata": {},
   "source": [
    "##### **TODO: Add in-text citations** <br>\n",
    "### **Multi-Label Image Classification**\n",
    "Multi-label image classification is a type of image classification that predicts the probability of each class in a single image of the dataset. In contrast to binary or multi-class image classification models, wherein they classify images as belonging to **one** of two or more classes, a multi-label image classification model classifies images as belonging to **two or more classes**.\n",
    "\n",
    "In this notebook, the goal is to build a good model that performs the task on a chosen image dataset, producing a **high-enough** prediction accuracy. The training of the model is done using the **supervised learning** approach.\n",
    "\n",
    "The image dataset to perform the task on is the **Tom and Jerry Image Classification Dataset** which is a recently made dataset in **Kaggle**."
   ]
  },
  {
   "cell_type": "markdown",
   "id": "e73fba7b",
   "metadata": {},
   "source": [
    "## **Problem Dataset**"
   ]
  },
  {
   "cell_type": "markdown",
   "id": "0fa90b90",
   "metadata": {},
   "source": [
    "### **Tom and Jerry Image Classification Dataset**\n",
    "\n",
    "<img src=\"References/tomandjerry.jpg\" width=\"300\"/>\n",
    "\n",
    "One of the famous cartoon shows, *Tom and Jerry* is an American animated media franchise and series of comedy short films produced in 1940 by *William Hanna* and *Joseph Barbera*. The series centers on the rivalry between the titular characters of a cat named *Tom* and a mouse named *Jerry*. \n",
    "\n",
    "The Kaggle dataset was produced by **Bala Baskar**. It contains `5478` images extracted from a set of Tom and Jerry episode videos that are available online. The images were acquired by converting the videos into images with 1 frame per second (FPS). Based on the dataset, an image can be classified as either `Tom`, `Jerry`, both `Tom` and `Jerry`, or none at all. The classification also means if Tom, Jerry, or both of them are present in the image.\n",
    "\n",
    "Along with this, a comma-separated values (csv) file named `ground_truth` is also provided containing the **ground truth** labels for each image which allows for **supervised** learning. According to Baskar, the labeling for each images was done manually therefore the **accuracy** of the ground truth labels in the csv file is `100%`.\n",
    "<br><br>\n",
    "\n",
    "#### **Dataset Source**: [Kaggle](https://www.kaggle.com/datasets/balabaskar/tom-and-jerry-image-classification)"
   ]
  },
  {
   "cell_type": "markdown",
   "id": "129fe524",
   "metadata": {},
   "source": [
    "To construct our dataset, the initial features that we will be dealing with are the **images** themselves. As observed in the Kaggle dataset, the images are in `JPEG` format with a resolution of `1280x720`. \n",
    "\n",
    "With that said, each image will be resized as `256x256` images and are then converted to **3D numpy ndarrays** with the dimensions being `256x256x3`. The third dimension's value, which is `3`, represents the `RGB` channels as these are RGB images. The values in each 3D array, which are pixel values, are then normalized to `0-1` to allow for faster convergence later on in model training.\n",
    "\n",
    "Each `instance` from the dataset is a single image (frame) extracted from a Tom and Jerry episode video. These instances can either have Tom, Jerry, both, or none present."
   ]
  },
  {
   "cell_type": "markdown",
   "id": "c28172ec",
   "metadata": {},
   "source": [
    "## **Requirements**"
   ]
  },
  {
   "cell_type": "markdown",
   "id": "bf6d75ba",
   "metadata": {},
   "source": [
    "Below are the dataset files and Python modules to be used throughout this notebook.\n",
    "\n",
    "**Tom and Jerry Image Classification Dataset**\n",
    "- `tom` - folder which contains images wherein **Tom** is only present.\n",
    "- `jerry` - folder which contains images wherein **Jerry** is only present.\n",
    "- `tom_jerry_1` - folder which contains image wherein both Tom and Jerry are **present**.\n",
    "- `tom_jerry_0` - folder which contains images wherein both Tom and Jerry are **not present**.\n",
    "- `ground_truth` - csv file which contains the **ground truth class labels** for each image.\n",
    "\n",
    "**Python Modules**\n",
    "- `pandas`\n",
    "- `numpy`\n",
    "- `os`\n",
    "- `cv2` (OpenCV)\n",
    "- `matplotlib`\n",
    "- `sklearn`\n",
    "- `tensorflow (keras, etc.)`\n",
    "- *to be added... (**TODO**: add here the new modules that we will be using)*"
   ]
  },
  {
   "cell_type": "markdown",
   "id": "770a8fda",
   "metadata": {},
   "source": [
    "## **Creating the Image Dataset**"
   ]
  },
  {
   "cell_type": "markdown",
   "id": "45c4107e",
   "metadata": {},
   "source": [
    "Lets create the image dataset to be used for model training. First, all of the needed modules for dataset creation and exploration are imported below."
   ]
  },
  {
   "cell_type": "code",
   "execution_count": 44,
   "id": "2afe5fec",
   "metadata": {},
   "outputs": [],
   "source": [
    "import pandas as pd\n",
    "import numpy as np\n",
    "import os\n",
    "import cv2\n",
    "import matplotlib.pyplot as plt\n",
    "import matplotlib.image as mimg\n",
    "\n",
    "# to make matplotlib figures appear inline in the notebook rather than in a new window.\n",
    "%matplotlib inline\n",
    "\n",
    "# plot configurations\n",
    "plt.rcParams['figure.figsize'] = (10, 10)\n",
    "\n",
    "# random number generator seed\n",
    "np.random.seed(1)"
   ]
  },
  {
   "cell_type": "markdown",
   "id": "bb53f24d",
   "metadata": {},
   "source": [
    "The `create_img_dataset` function below produces the image dataset containing all of the stored images from each sub-folder of the specified image directory and their ground truth class labels.\n",
    "* It will read the **ground truth file** containing the `ground truth class labels` for each image.\n",
    "* It will read the image files from all **folders** of the specified image directory and convert them to the right color format (**RGB**).\n",
    "* It will **resize** each image based on the set image dimensions, `256x256` as the default image dimension values.\n",
    "* It will **convert** the image to a `numpy` array with `float32` as the datatype.\n",
    "* It will **normalize** the image array to have values scaled down between **0 and 1** from 0 to 255 for a similar data distribution. This is done in order to have **faster convergence** later on in model training."
   ]
  },
  {
   "cell_type": "code",
   "execution_count": 45,
   "id": "6ecb6ddd",
   "metadata": {},
   "outputs": [],
   "source": [
    "def create_img_dataset(img_dir, ground_truth, size=[256, 256]):\n",
    "    # np ndarray containing the tom and jerry images represented 3D numpy ndarrays\n",
    "    X = []\n",
    "    # np ndarray containing the ground truth (y) labels for each image\n",
    "    y = []\n",
    "    \n",
    "    # get ground truth labels and store them into a dataframe\n",
    "    labels = pd.read_csv(ground_truth)\n",
    "    \n",
    "    # get and pre-process all images from each folder in the specified image \n",
    "    for sub_dir in os.listdir(img_dir):\n",
    "        for img_file in os.listdir(os.path.join(img_dir, sub_dir)):\n",
    "            # get image path\n",
    "            img_path = os.path.join(img_dir, sub_dir, img_file)\n",
    "            # read image, it will be on the defaukt BGR format first\n",
    "            img = cv2.imread(img_path)\n",
    "            # convert to RGB format\n",
    "            img = cv2.cvtColor(img, cv2.COLOR_BGR2RGB)\n",
    "            # resize image according to set image dimensions\n",
    "            img = cv2.resize(img, (size[0], size[1]), interpolation=cv2.INTER_AREA)\n",
    "            # convert image to numpy array with float32 as data type\n",
    "            img = np.array(img).astype('float32')\n",
    "            # normalize the image array's values to 0-1\n",
    "            img /= 255\n",
    "            # store image in array\n",
    "            X.append(img)\n",
    "            # store image's ground truth class label, there must be a 'filename' column which\n",
    "            # corresponds to the name of the current image file being stored\n",
    "            y.append(labels[labels['filename'] == img_file].values[:, 1:].squeeze())\n",
    "            \n",
    "    # return the created image dataset as numpy ndarrays\n",
    "    return np.array(X), np.array(y).astype(int)"
   ]
  },
  {
   "cell_type": "markdown",
   "id": "bef37e9f",
   "metadata": {},
   "source": [
    "Below are the image dimension values and image directory to be used for creating the image dataset."
   ]
  },
  {
   "cell_type": "code",
   "execution_count": 46,
   "id": "08779538",
   "metadata": {},
   "outputs": [],
   "source": [
    "# image dimension values (width x height)\n",
    "img_dims = [224, 224]\n",
    "\n",
    "# image directory of Tom and Jerry images\n",
    "img_dir = 'tom_and_jerry\\\\'\n",
    "\n",
    "# file containing the ground truth labels for each image\n",
    "ground_truth = 'ground_truth.csv'"
   ]
  },
  {
   "cell_type": "markdown",
   "id": "8b5eb381",
   "metadata": {},
   "source": [
    "With the function and configurations set, create the image dataset."
   ]
  },
  {
   "cell_type": "code",
   "execution_count": 47,
   "id": "21eac8fb",
   "metadata": {},
   "outputs": [],
   "source": [
    "X, y = create_img_dataset(img_dir, ground_truth, img_dims)"
   ]
  },
  {
   "cell_type": "markdown",
   "id": "b47e2c09",
   "metadata": {},
   "source": [
    "## **Exploratory Data Analysis**"
   ]
  },
  {
   "cell_type": "markdown",
   "id": "7c951979",
   "metadata": {},
   "source": [
    "##### **_Identifying the number of images for each class_**"
   ]
  },
  {
   "cell_type": "markdown",
   "id": "2f83b3df",
   "metadata": {},
   "source": [
    "As there are two classes from the dataset which are `Tom` and `Jerry`, the number of images assigned to each class shall be identified. Along with these, the number of images wherein `both` or `none` of them are present shall also be determined. To do this, lets use `y`, which is the numpy array containing the **ground truth class labels** for each image, to determine the number of images for each class. "
   ]
  },
  {
   "cell_type": "markdown",
   "id": "ce1fea1a",
   "metadata": {},
   "source": [
    "Since the task being performed is **multi-label** image classification, each image will have two `y` values indicating if `Tom` and `Jerry` are present in the image or not. The first `y` value indicates to the presence of `Tom` in the image while the second `y` value indicates to the presence of `Jerry` in the image. The values for `y` are only `0` or `1` wherein `0` tells that Tom or Jerry is not present in the image while `1` tells that Tom or Jerry is present in the image."
   ]
  },
  {
   "cell_type": "markdown",
   "id": "abbae872",
   "metadata": {},
   "source": [
    "To confirm the statement above, lets view the `ground_truth` csv file where the `y` numpy array was created from."
   ]
  },
  {
   "cell_type": "code",
   "execution_count": 48,
   "id": "d9dab5cb",
   "metadata": {},
   "outputs": [
    {
     "data": {
      "text/html": [
       "<div>\n",
       "<style scoped>\n",
       "    .dataframe tbody tr th:only-of-type {\n",
       "        vertical-align: middle;\n",
       "    }\n",
       "\n",
       "    .dataframe tbody tr th {\n",
       "        vertical-align: top;\n",
       "    }\n",
       "\n",
       "    .dataframe thead th {\n",
       "        text-align: right;\n",
       "    }\n",
       "</style>\n",
       "<table border=\"1\" class=\"dataframe\">\n",
       "  <thead>\n",
       "    <tr style=\"text-align: right;\">\n",
       "      <th></th>\n",
       "      <th>filename</th>\n",
       "      <th>tom</th>\n",
       "      <th>jerry</th>\n",
       "    </tr>\n",
       "  </thead>\n",
       "  <tbody>\n",
       "    <tr>\n",
       "      <th>0</th>\n",
       "      <td>frame0.jpg</td>\n",
       "      <td>0</td>\n",
       "      <td>0</td>\n",
       "    </tr>\n",
       "    <tr>\n",
       "      <th>1</th>\n",
       "      <td>frame1.jpg</td>\n",
       "      <td>0</td>\n",
       "      <td>0</td>\n",
       "    </tr>\n",
       "    <tr>\n",
       "      <th>2</th>\n",
       "      <td>frame2.jpg</td>\n",
       "      <td>0</td>\n",
       "      <td>0</td>\n",
       "    </tr>\n",
       "    <tr>\n",
       "      <th>3</th>\n",
       "      <td>frame3.jpg</td>\n",
       "      <td>0</td>\n",
       "      <td>0</td>\n",
       "    </tr>\n",
       "    <tr>\n",
       "      <th>4</th>\n",
       "      <td>frame4.jpg</td>\n",
       "      <td>0</td>\n",
       "      <td>0</td>\n",
       "    </tr>\n",
       "  </tbody>\n",
       "</table>\n",
       "</div>"
      ],
      "text/plain": [
       "     filename  tom  jerry\n",
       "0  frame0.jpg    0      0\n",
       "1  frame1.jpg    0      0\n",
       "2  frame2.jpg    0      0\n",
       "3  frame3.jpg    0      0\n",
       "4  frame4.jpg    0      0"
      ]
     },
     "execution_count": 48,
     "metadata": {},
     "output_type": "execute_result"
    }
   ],
   "source": [
    "# read ground_truth csv file and store it as a dataframe\n",
    "df_gt = pd.read_csv(ground_truth)\n",
    "\n",
    "# display the first 5 rows only\n",
    "df_gt.head()"
   ]
  },
  {
   "cell_type": "markdown",
   "id": "f84e1058",
   "metadata": {},
   "source": [
    "From the `ground_truth` csv file, we can see that the first column `tom` indicates **Tom**'s presence in the image while the second column `jerry` indicates **Jerry**'s presence in the image. For example, the first image which has a filename of `frame0.jpg` has both Tom and Jerry **not present** in the image since the values for both columns are `0`."
   ]
  },
  {
   "cell_type": "markdown",
   "id": "a2d1ccc3",
   "metadata": {},
   "source": [
    "Lets now get all unique rows (1D numpy arrays) and get the number of images for each."
   ]
  },
  {
   "cell_type": "code",
   "execution_count": 49,
   "id": "e8aa03db",
   "metadata": {},
   "outputs": [],
   "source": [
    "# get all unique rows (1D numpy arrays) and the number of images for each\n",
    "unique, num_of_imgs = np.unique(y, axis=0, return_counts=True)"
   ]
  },
  {
   "cell_type": "markdown",
   "id": "9677ac9e",
   "metadata": {},
   "source": [
    "Lets view the unique rows from the `y` numpy array."
   ]
  },
  {
   "cell_type": "code",
   "execution_count": 50,
   "id": "a579f84f",
   "metadata": {},
   "outputs": [
    {
     "data": {
      "text/plain": [
       "array([[0, 0],\n",
       "       [0, 1],\n",
       "       [1, 0],\n",
       "       [1, 1]])"
      ]
     },
     "execution_count": 50,
     "metadata": {},
     "output_type": "execute_result"
    }
   ],
   "source": [
    "unique"
   ]
  },
  {
   "cell_type": "markdown",
   "id": "3cf68e77",
   "metadata": {},
   "source": [
    "We can see that there are `4` unique 1D numpy arrays from `y`. The array with values `0, 0` indicates that **both Tom and Jerry** are **not present** in the image, `0, 1` indicates that **only Jerry** is **present** in the image, `1, 0` indicates that **only Tom** is **present** in the image, and `1, 1` indicates that **both Tom and Jerry** are **present** in the image."
   ]
  },
  {
   "cell_type": "markdown",
   "id": "faf6ec82",
   "metadata": {},
   "source": [
    "Next, lets view the number of images for each unique row."
   ]
  },
  {
   "cell_type": "code",
   "execution_count": 51,
   "id": "6124a8b7",
   "metadata": {},
   "outputs": [
    {
     "data": {
      "text/plain": [
       "array([1528, 1240, 1930,  780], dtype=int64)"
      ]
     },
     "execution_count": 51,
     "metadata": {},
     "output_type": "execute_result"
    }
   ],
   "source": [
    "num_of_imgs"
   ]
  },
  {
   "cell_type": "markdown",
   "id": "83684228",
   "metadata": {},
   "source": [
    "Lets visualize the results with a bar chart."
   ]
  },
  {
   "cell_type": "code",
   "execution_count": 52,
   "id": "6df35597",
   "metadata": {},
   "outputs": [
    {
     "data": {
      "image/png": "[encoded data removed]",
      "text/plain": [
       "<Figure size 720x720 with 1 Axes>"
      ]
     },
     "metadata": {
      "needs_background": "light"
     },
     "output_type": "display_data"
    }
   ],
   "source": [
    "# create descriptive labels for each unique row from the `y` numpy array\n",
    "labels = ['Neither', 'Jerry', 'Tom', 'Both']\n",
    "\n",
    "# setup bar chart and its texts\n",
    "plt.bar(labels, num_of_imgs)\n",
    "plt.title(\"Presence of Tom and Jerry in the Images\")\n",
    "plt.xlabel(\"Presence\")\n",
    "plt.ylabel(\"Number of Images\")\n",
    "\n",
    "# display bar chart\n",
    "plt.show()"
   ]
  },
  {
   "cell_type": "markdown",
   "id": "479f3f0d",
   "metadata": {},
   "source": [
    "As observed from the results, there are `1930` images wherein **only Tom** is **present**, `1240` images wherein **only Jerry** is **present**, `780` images wherein **both** are **present**, and `1528` images wherein **neither** of them are **present**."
   ]
  },
  {
   "cell_type": "markdown",
   "id": "25467bf3",
   "metadata": {},
   "source": [
    "##### **TODO: add more insights in this part regarding the number of images**"
   ]
  },
  {
   "cell_type": "markdown",
   "id": "f2fefd75",
   "metadata": {},
   "source": [
    "##### **_Viewing a sampling of images_**"
   ]
  },
  {
   "cell_type": "markdown",
   "id": "515b17ae",
   "metadata": {},
   "source": [
    "To familiarize ourselves with the data, lets randomly view `20` images from the dataset."
   ]
  },
  {
   "cell_type": "code",
   "execution_count": 53,
   "id": "49e4ed69",
   "metadata": {},
   "outputs": [
    {
     "data": {
      "image/png": "[encoded data removed]",
      "text/plain": [
       "<Figure size 720x720 with 20 Axes>"
      ]
     },
     "metadata": {
      "needs_background": "light"
     },
     "output_type": "display_data"
    }
   ],
   "source": [
    "# display 20 random images from the dataset along with their ground truth class labels\n",
    "for i in range(20):\n",
    "    idx = np.random.randint(len(X))\n",
    "    ax=plt.subplot(4, 5, i+1)\n",
    "    \n",
    "    # get descriptive class label\n",
    "    if y[idx][0] == 0 and y[idx][1] == 0:\n",
    "        classes = 'Neither'\n",
    "    elif y[idx][0] == 0 and y[idx][1] == 1:\n",
    "        classes = 'Jerry'\n",
    "    elif y[idx][0] == 1 and y[idx][1] == 0:\n",
    "        classes = 'Tom'\n",
    "    else:\n",
    "        classes = 'Both'\n",
    "    \n",
    "    # set descriptive label and display image\n",
    "    ax.title.set_text(classes)\n",
    "    plt.imshow(X[idx])"
   ]
  },
  {
   "cell_type": "markdown",
   "id": "b24923c6",
   "metadata": {},
   "source": [
    "##### **TODO: We can add the Tom and Jerry images here wherein only their tail or hands are shown, also parts wherein they are covered / blocked by objects, to support the second paragraph.** <br>\n",
    "\n",
    "As observed above, we can see that the Tom and Jerry images have varying `brightnesses` and `backgrounds`. There are also different orientations per image, some images are shown in `portrait` while some images are shown in `landscape`. \n",
    "\n",
    "There are also images wherein only certain body parts of Tom or Jerry are shown such as their `tail` or `hands`, yet the ground truth class label for those images indicate that Tom or Jerry is **present** in that image. \n",
    "\n",
    "These observations will be useful later on in this notebook, as we determine and analyze the performance of the model that we will build to perform the task."
   ]
  },
  {
   "cell_type": "markdown",
   "id": "48412a48",
   "metadata": {},
   "source": [
    "## **Model Training and Hyperparameter Tuning**"
   ]
  },
  {
   "cell_type": "markdown",
   "id": "2de74130",
   "metadata": {},
   "source": [
    "##### **TODO: Add in-text citations** <br>\n",
    "\n",
    "The algorithm that we are going to use towards building the model is `Convolutional Neural Network (CNN)`. Based on research, this is the **preferred** model algorithm for image classification since it effectively **lowers** the number of parameters handled in training given an image dataset. With lower number of parameters, this greatly improves the time it takes to learn as well as reduce the amount of data required to train the model. \n",
    "\n",
    "Unlike a network with fully connected layers wherein the number of parameters **grows rapidly** which makes the model training **computationally expensive**, a CNN solves this by lowering the number of parameters needed for training. It emphasizes the idea that a **local** understanding of the image is good enough since adjacent pixels in a specific location of an image are **similar** to one another. CNNs share the same parameters across the different locations of the image instead of treating each pixels as a separate feature, allowing for **easier** training.\n",
    "\n",
    "With these said, CNN is the most effective and fit model when it comes to **image classification tasks and processing**. Given that images have **high dimensionality yet strong spatial correlation**, CNNs are very effective in reducing the number of parameters without losing on the model's quality. It **convolves** the input images, reducing their dimensions while retaining their **salient** features. This allows for **faster** processing during training."
   ]
  },
  {
   "cell_type": "markdown",
   "id": "3ebd271f",
   "metadata": {},
   "source": [
    "##### **TODO: Add in-text citations** <br>\n",
    "\n",
    "CNNs are made up of **two** main components: the first component is for **feature extraction** and the second component is for **classification**. \n",
    "\n",
    "The first component is composed of the **convolutional**, **pooling**, and **flattening** layers. The **convolutional** layer is in charge of applying filters to the input image to extract its features. The outputs from the convolutional layer will then be passed on to the **pooling** layer which will **downsample** the outputs, or in other words, reduce the dimensions for faster processing. The pooling layer is used for **spatial dimensionality reduction**, it is done so that only the **most important** features are highlighted during training. Lastly, the **flattening** layer flattens the **pooled** output into a one-dimensional output which will then be passed on to the second component of CNN.\n",
    "\n",
    "The second component consists of the final layer which is **fully connected**. As the final layer, it uses the output from the flattening layer and generates the **final prediction** of the input image. This prediction is a **probability value** which indicates the **class** that the image **belongs** to."
   ]
  },
  {
   "cell_type": "markdown",
   "id": "91de0883",
   "metadata": {},
   "source": [
    "##### **TODO: Add to references section each of the citation for the CNN architectures.** <br>\n",
    "In order to achieve a good model with **high-enough** task accuracy on the Tom and Jerry image dataset, we will be experimenting on `4` different well-known CNN architectures. The CNN architectures that we will use to perform the multi-label image classification task on the dataset are as follows:\n",
    "* `AlexNet` (Krizhevsky et al., 2012)\n",
    "* `VGG-19` (Simonyan & Zisserman, 2014)\n",
    "* `ResNet-50` (He et al., 2016)\n",
    "* `DenseNet-121` (Huang et al., 2017)\n",
    "\n",
    "With this, a total of `4` **multi-label image classification** CNNs will be **trained, validated, and tested** with the Tom and Jerry dataset."
   ]
  },
  {
   "cell_type": "markdown",
   "id": "059b28a9",
   "metadata": {},
   "source": [
    "##### **_Train/test/validation split_**"
   ]
  },
  {
   "cell_type": "markdown",
   "id": "0b0c15c2",
   "metadata": {},
   "source": [
    "Before constructing the CNNs, lets first split our Tom and Jerry image dataset into **train, test, and validation** sets. `80%` of the data will be placed on the **train** set, `10%` on the **test** set, and `10%` on the **validation** set."
   ]
  },
  {
   "cell_type": "markdown",
   "id": "f52ffd23",
   "metadata": {},
   "source": [
    "Import the `train_test_split()` from `sklearn`."
   ]
  },
  {
   "cell_type": "code",
   "execution_count": 54,
   "id": "c9c31913",
   "metadata": {},
   "outputs": [],
   "source": [
    "from sklearn.model_selection import train_test_split"
   ]
  },
  {
   "cell_type": "markdown",
   "id": "37b66cbc",
   "metadata": {},
   "source": [
    "Divide the dataset first into train and test sets, where `20%` of the data will be placed into the test set. `random_state` is set to `1`."
   ]
  },
  {
   "cell_type": "code",
   "execution_count": 55,
   "id": "b2ee5e78",
   "metadata": {},
   "outputs": [],
   "source": [
    "X_train, X_test, y_train, y_test = train_test_split(X, y, test_size=0.2, random_state=1)"
   ]
  },
  {
   "cell_type": "markdown",
   "id": "860abe25",
   "metadata": {},
   "source": [
    "Now, divide the test set's data into half (`50%`), producing the test and validation sets. Both will have `10%` of the data. `random_state` is also set to `1`."
   ]
  },
  {
   "cell_type": "code",
   "execution_count": 56,
   "id": "cc155b91",
   "metadata": {},
   "outputs": [],
   "source": [
    "X_test, X_val, y_test, y_val = train_test_split(X_test, y_test, test_size=0.5, random_state=1)"
   ]
  },
  {
   "cell_type": "markdown",
   "id": "61e322e0",
   "metadata": {},
   "source": [
    "Display the shape of the train, validation, and test sets."
   ]
  },
  {
   "cell_type": "code",
   "execution_count": 57,
   "id": "71f4a463",
   "metadata": {},
   "outputs": [
    {
     "name": "stdout",
     "output_type": "stream",
     "text": [
      "X_train (4382, 224, 224, 3)\n",
      "y_train (4382, 2)\n",
      "X_val (548, 224, 224, 3)\n",
      "y_val (548, 2)\n",
      "X_test (548, 224, 224, 3)\n",
      "y_test (548, 2)\n"
     ]
    }
   ],
   "source": [
    "print('X_train', X_train.shape)\n",
    "print('y_train', y_train.shape)\n",
    "\n",
    "print('X_val', X_val.shape)\n",
    "print('y_val', y_val.shape)\n",
    "\n",
    "print('X_test', X_test.shape)\n",
    "print('y_test', y_test.shape)"
   ]
  },
  {
   "cell_type": "markdown",
   "id": "4d81b93c",
   "metadata": {},
   "source": [
    "With the train, test, and validation sets created, lets now proceed to creating the CNNs."
   ]
  },
  {
   "cell_type": "markdown",
   "id": "72744a2f",
   "metadata": {},
   "source": [
    "##### **_AlexNet_**"
   ]
  },
  {
   "cell_type": "markdown",
   "id": "1b3d8b3a",
   "metadata": {},
   "source": [
    "**AlexNet** (Krizshevsky et al., 2012) is a CNN architecture best known for winning the ImageNet Large Scale Visual Recognition Challenge (ILSVRC) 2012 competition by an immense error margin and can be credited with stimulating the rise in popularity of CNNs.\n",
    "\n",
    "<img src=\"References/AlexNet.png\" width=\"700\"/>\n",
    "\n",
    "The CNN architecture includes `5` convolutional layers and `3` max-pooling layers. It is also the first to introduce and use the **Rectified Linear Unit** (`ReLU`) as the **nonlinear activation function**. Compared to the `Tanh` activation function, `ReLU` is said to improve training speed due to **non-saturation** of gradients. The **max-pooling** layers are used to reduce error rate. Lastly, the architecture also made use of **drop-out** layers after the fully-connected layers to avoid **over-fitting**."
   ]
  },
  {
   "cell_type": "markdown",
   "id": "129770dc",
   "metadata": {},
   "source": [
    "To create the **AlexNet** model in performing the task on the Tom and Jerry dataset, we will use `keras` which is a **high level API** of TensorFlow for creating deep learning models.\n",
    "\n",
    "Lets import all of the needed functions from `keras` to construct the AlexNet model. We will be using the `Sequential()` function of `keras` to resemble the architecture. "
   ]
  },
  {
   "cell_type": "code",
   "execution_count": 15,
   "id": "82f87b7a",
   "metadata": {},
   "outputs": [],
   "source": [
    "from keras.models import Sequential\n",
    "from keras.layers import Conv2D, BatchNormalization, MaxPool2D, Dense, Flatten, Dropout"
   ]
  },
  {
   "cell_type": "markdown",
   "id": "54050f82",
   "metadata": {},
   "source": [
    "With the `keras` functions imported, lets construct the AlexNet model for multi-label image classification."
   ]
  },
  {
   "cell_type": "code",
   "execution_count": 24,
   "id": "8b222b0c",
   "metadata": {},
   "outputs": [],
   "source": [
    "# initialize with Sequential to create and connect model layers\n",
    "alexnet = Sequential()\n",
    "\n",
    "# first convolutional layer, convolve the image with a 11x11 kernel to get the features\n",
    "alexnet.add(Conv2D(input_shape=(256, 256, 3), filters=96, kernel_size=(11, 11), strides=(4, 4), padding=\"same\", activation=\"relu\"))\n",
    "# first batch normalization layer, normalize the input values\n",
    "alexnet.add(BatchNormalization())\n",
    "# first max-pooling layer, get only the important features\n",
    "alexnet.add(MaxPool2D(pool_size=(3,3), strides=(2,2)))\n",
    "\n",
    "# second convolutional layer, convolve the image with a 5x5 kernel\n",
    "alexnet.add(Conv2D(filters=256, kernel_size=(5,5), strides=(1, 1), padding=\"same\", activation=\"relu\"))\n",
    "# second batch normalization layer\n",
    "alexnet.add(BatchNormalization())\n",
    "# second max-pooling layer\n",
    "alexnet.add(MaxPool2D(pool_size=(3,3), strides=(2,2)))\n",
    "\n",
    "# third convolutional layer, convolve the image with a 3x3 kernel\n",
    "alexnet.add(Conv2D(filters=384, kernel_size=(3,3), strides=(1,1), padding=\"same\", activation=\"relu\"))\n",
    "# third batch normalization layer\n",
    "alexnet.add(BatchNormalization())\n",
    "# fourth convolutional layer, convolve the image with a 1x1 kernel\n",
    "alexnet.add(Conv2D(filters=384, kernel_size=(1,1), strides=(1,1), padding=\"same\", activation=\"relu\"))\n",
    "# fourth batch normalization layer\n",
    "alexnet.add(BatchNormalization())\n",
    "\n",
    "# last convolutional layer, convolve the image with a 1x1 kernel\n",
    "alexnet.add(Conv2D(filters=256, kernel_size=(1,1), strides=(1,1), padding=\"same\", activation=\"relu\"))\n",
    "# last batch normalization layer\n",
    "alexnet.add(BatchNormalization())\n",
    "# last max-pooling layer\n",
    "alexnet.add(MaxPool2D(pool_size=(3,3), strides=(2,2)))\n",
    "\n",
    "# flattening layer, flatten the output into a one-dimensional array\n",
    "alexnet.add(Flatten())\n",
    "\n",
    "# fully connected layers, dropout to avoid issue of overfitting\n",
    "alexnet.add(Dense(4096, activation=\"relu\"))\n",
    "alexnet.add(Dropout(0.5))\n",
    "alexnet.add(Dense(4096, activation=\"relu\"))\n",
    "alexnet.add(Dropout(0.5))\n",
    "\n",
    "# produce final prediction (probability)\n",
    "# sigmoid as activation function to predict the probability of Tom/Jerry being present in an image\n",
    "# produces two output probabilities: one for Tom's presence and the other one for Jerry's presence in the image\n",
    "alexnet.add(Dense(2, activation=\"sigmoid\"))"
   ]
  },
  {
   "cell_type": "markdown",
   "id": "16b3476f",
   "metadata": {},
   "source": [
    "##### **TODO: Add in-text citation** <br>\n",
    "\n",
    "As observed in the code above, the nonlinear activation function used for the output layer is **sigmoid**. Though it might not be clearly visible since there are only `2` classes in the dataset which are `Tom` and `Jerry`, the **softmax** activation function cannot be used for **multi-label** image classification. \n",
    "\n",
    "This is because softmax can only be used for **mutually exclusive** class outputs (e.g. either cat or dog but not both). With more than 2 classes, softmax compares the probabilities of each class and chooses the class with the **highest probability** as label for the image. It is applicable to **multi-class** image classification but not for **multi-label** image classification wherein an input image can have more than one label.\n",
    "\n",
    "With that said, we use **sigmoid** to predict the probability of each class **separately** in an input image."
   ]
  },
  {
   "cell_type": "markdown",
   "id": "0e62515a",
   "metadata": {},
   "source": [
    "Lets display the summary of the AlexNet model."
   ]
  },
  {
   "cell_type": "code",
   "execution_count": 59,
   "id": "9280abf6",
   "metadata": {},
   "outputs": [
    {
     "name": "stdout",
     "output_type": "stream",
     "text": [
      "Model: \"sequential_2\"\n",
      "_________________________________________________________________\n",
      " Layer (type)                Output Shape              Param #   \n",
      "=================================================================\n",
      " conv2d_5 (Conv2D)           (None, 64, 64, 96)        34944     \n",
      "                                                                 \n",
      " batch_normalization_5 (Batc  (None, 64, 64, 96)       384       \n",
      " hNormalization)                                                 \n",
      "                                                                 \n",
      " max_pooling2d_3 (MaxPooling  (None, 31, 31, 96)       0         \n",
      " 2D)                                                             \n",
      "                                                                 \n",
      " conv2d_6 (Conv2D)           (None, 31, 31, 256)       614656    \n",
      "                                                                 \n",
      " batch_normalization_6 (Batc  (None, 31, 31, 256)      1024      \n",
      " hNormalization)                                                 \n",
      "                                                                 \n",
      " max_pooling2d_4 (MaxPooling  (None, 15, 15, 256)      0         \n",
      " 2D)                                                             \n",
      "                                                                 \n",
      " conv2d_7 (Conv2D)           (None, 15, 15, 384)       885120    \n",
      "                                                                 \n",
      " batch_normalization_7 (Batc  (None, 15, 15, 384)      1536      \n",
      " hNormalization)                                                 \n",
      "                                                                 \n",
      " conv2d_8 (Conv2D)           (None, 15, 15, 384)       147840    \n",
      "                                                                 \n",
      " batch_normalization_8 (Batc  (None, 15, 15, 384)      1536      \n",
      " hNormalization)                                                 \n",
      "                                                                 \n",
      " conv2d_9 (Conv2D)           (None, 15, 15, 256)       98560     \n",
      "                                                                 \n",
      " batch_normalization_9 (Batc  (None, 15, 15, 256)      1024      \n",
      " hNormalization)                                                 \n",
      "                                                                 \n",
      " max_pooling2d_5 (MaxPooling  (None, 7, 7, 256)        0         \n",
      " 2D)                                                             \n",
      "                                                                 \n",
      " flatten_1 (Flatten)         (None, 12544)             0         \n",
      "                                                                 \n",
      " dense_3 (Dense)             (None, 4096)              51384320  \n",
      "                                                                 \n",
      " dropout_2 (Dropout)         (None, 4096)              0         \n",
      "                                                                 \n",
      " dense_4 (Dense)             (None, 4096)              16781312  \n",
      "                                                                 \n",
      " dropout_3 (Dropout)         (None, 4096)              0         \n",
      "                                                                 \n",
      " dense_5 (Dense)             (None, 2)                 8194      \n",
      "                                                                 \n",
      "=================================================================\n",
      "Total params: 69,960,450\n",
      "Trainable params: 69,957,698\n",
      "Non-trainable params: 2,752\n",
      "_________________________________________________________________\n"
     ]
    }
   ],
   "source": [
    "alexnet.summary()"
   ]
  },
  {
   "cell_type": "markdown",
   "id": "271443b4",
   "metadata": {},
   "source": [
    "Since we are using **sigmoid** as the output layer's activation function, and we are also trying to determine if Tom and Jerry are present in the image or not **separately**, we can view this as a **binary classification problem** but with `2` output probabilities (one for **Tom's presence** and one for **Jerry's presence**).\n",
    "\n",
    "To optimize the AlexNet model for the task, we will be using **Binary Cross-Entropy** as the **loss function**. Along with this, we will use **Adaptive Moment Estimation (Adam)** as the **optimizer** for the model."
   ]
  },
  {
   "cell_type": "markdown",
   "id": "72f9636c",
   "metadata": {},
   "source": [
    "Lets now **define** binary cross-entropy and adam as the loss function and optimizer to be used for model optimization. We will use the `compile()` function of the created model to do this. For the metrics, we only need the `accuracy` to see how the model has performed."
   ]
  },
  {
   "cell_type": "code",
   "execution_count": 143,
   "id": "5f46cf02",
   "metadata": {},
   "outputs": [],
   "source": [
    "# define the loss function and optimizer to be used for optimizing the model, use accuracy only for metrics\n",
    "alexnet.compile(loss='binary_crossentropy', optimizer='adam', metrics=['accuracy'])"
   ]
  },
  {
   "cell_type": "markdown",
   "id": "db04828f",
   "metadata": {},
   "source": [
    "According to the Keras API documentation, **back propagation** is **automatically** done by Keras itself just by calling the `fit()` method of the created model. With that said, we just need to define the `batch_size` and number of `epochs` needed for optimizing the model. "
   ]
  },
  {
   "cell_type": "markdown",
   "id": "fa57ec5b",
   "metadata": {},
   "source": [
    "Before we train the AlexNet model, lets first implement the **early-stopping** method which will help mitigate overfitting during training with the `fit()` by monitoring the validation loss or accuracy. \n",
    "\n",
    "To do this, we will create an `EarlyStopping` callback object using Keras which will monitor the validation loss (`val_loss`) during training. Lets also set `patience` to `5` which is the number of epochs for the training to be continued after the halt. This is done just in case if the model's performance still improves through the succeeding epochs after the epoch that caused the training halt. We will also set `restore_best_weights` to `True` to retrieve the best weights of the model after the halt."
   ]
  },
  {
   "cell_type": "code",
   "execution_count": 15,
   "id": "f647a7f6",
   "metadata": {},
   "outputs": [],
   "source": [
    "# import callbacks module of keras for the earlystopping callback object\n",
    "from keras import callbacks\n",
    "\n",
    "# create EarlyStopping callback object to monitor validation loss per epoch\n",
    "es = callbacks.EarlyStopping(monitor='val_loss', mode='auto', patience=5, restore_best_weights=True)"
   ]
  },
  {
   "cell_type": "markdown",
   "id": "ec4ea5b9",
   "metadata": {},
   "source": [
    "Lets now train the AlexNet model with the train set. We will also **initially** set the `batch_size` to `32` and the number of `epochs` to `50`. The validation set (`X_val` and `y_val`) will be used as `validation_data` for optimization. We will also set the `EarlyStopping` object as the callback after each epoch to monitor the **validation loss**. If the validation loss **increments**, the callback object will **halt** the training to avoid model overfitting."
   ]
  },
  {
   "cell_type": "code",
   "execution_count": 63,
   "id": "125a077a",
   "metadata": {
    "scrolled": true
   },
   "outputs": [
    {
     "name": "stdout",
     "output_type": "stream",
     "text": [
      "Epoch 1/50\n",
      "137/137 [==============================] - 211s 2s/step - loss: 0.5983 - accuracy: 0.6837 - val_loss: 0.5781 - val_accuracy: 0.4234\n",
      "Epoch 2/50\n",
      "137/137 [==============================] - 220s 2s/step - loss: 0.4915 - accuracy: 0.7017 - val_loss: 0.6082 - val_accuracy: 0.3960\n",
      "Epoch 3/50\n",
      "137/137 [==============================] - 214s 2s/step - loss: 0.4453 - accuracy: 0.7175 - val_loss: 0.5027 - val_accuracy: 0.5821\n",
      "Epoch 4/50\n",
      "137/137 [==============================] - 214s 2s/step - loss: 0.4051 - accuracy: 0.7287 - val_loss: 0.4466 - val_accuracy: 0.6058\n",
      "Epoch 5/50\n",
      "137/137 [==============================] - 219s 2s/step - loss: 0.4043 - accuracy: 0.7264 - val_loss: 0.3387 - val_accuracy: 0.6825\n",
      "Epoch 6/50\n",
      "137/137 [==============================] - 215s 2s/step - loss: 0.3857 - accuracy: 0.7225 - val_loss: 0.3734 - val_accuracy: 0.6314\n",
      "Epoch 7/50\n",
      "137/137 [==============================] - 225s 2s/step - loss: 0.3727 - accuracy: 0.7166 - val_loss: 0.3023 - val_accuracy: 0.7208\n",
      "Epoch 8/50\n",
      "137/137 [==============================] - 234s 2s/step - loss: 0.3581 - accuracy: 0.7277 - val_loss: 0.4409 - val_accuracy: 0.5073\n",
      "Epoch 9/50\n",
      "137/137 [==============================] - 216s 2s/step - loss: 0.3820 - accuracy: 0.7147 - val_loss: 0.3189 - val_accuracy: 0.7117\n",
      "Epoch 10/50\n",
      "137/137 [==============================] - 224s 2s/step - loss: 0.3464 - accuracy: 0.7246 - val_loss: 0.3416 - val_accuracy: 0.8230\n",
      "Epoch 11/50\n",
      "137/137 [==============================] - 215s 2s/step - loss: 0.3078 - accuracy: 0.7303 - val_loss: 0.2644 - val_accuracy: 0.6533\n",
      "Epoch 12/50\n",
      "137/137 [==============================] - 214s 2s/step - loss: 0.3023 - accuracy: 0.7287 - val_loss: 0.2825 - val_accuracy: 0.6095\n",
      "Epoch 13/50\n",
      "137/137 [==============================] - 212s 2s/step - loss: 0.3015 - accuracy: 0.7300 - val_loss: 1.4168 - val_accuracy: 0.8139\n",
      "Epoch 14/50\n",
      "137/137 [==============================] - 207s 2s/step - loss: 0.2843 - accuracy: 0.7325 - val_loss: 0.2604 - val_accuracy: 0.6077\n",
      "Epoch 15/50\n",
      "137/137 [==============================] - 221s 2s/step - loss: 0.2900 - accuracy: 0.7353 - val_loss: 0.3179 - val_accuracy: 0.6405\n",
      "Epoch 16/50\n",
      "137/137 [==============================] - 220s 2s/step - loss: 0.2674 - accuracy: 0.7380 - val_loss: 0.2301 - val_accuracy: 0.6679\n",
      "Epoch 17/50\n",
      "137/137 [==============================] - 219s 2s/step - loss: 0.2440 - accuracy: 0.7455 - val_loss: 0.3126 - val_accuracy: 0.6022\n",
      "Epoch 18/50\n",
      "137/137 [==============================] - 223s 2s/step - loss: 0.2484 - accuracy: 0.7471 - val_loss: 0.2631 - val_accuracy: 0.7044\n",
      "Epoch 19/50\n",
      "137/137 [==============================] - 220s 2s/step - loss: 0.2274 - accuracy: 0.7643 - val_loss: 0.2161 - val_accuracy: 0.7774\n",
      "Epoch 20/50\n",
      "137/137 [==============================] - 221s 2s/step - loss: 0.2401 - accuracy: 0.7437 - val_loss: 0.2443 - val_accuracy: 0.6661\n",
      "Epoch 21/50\n",
      "137/137 [==============================] - 225s 2s/step - loss: 0.2083 - accuracy: 0.7460 - val_loss: 0.1927 - val_accuracy: 0.6861\n",
      "Epoch 22/50\n",
      "137/137 [==============================] - 225s 2s/step - loss: 0.2056 - accuracy: 0.7321 - val_loss: 0.2262 - val_accuracy: 0.6478\n",
      "Epoch 23/50\n",
      "137/137 [==============================] - 224s 2s/step - loss: 0.2091 - accuracy: 0.7378 - val_loss: 0.2762 - val_accuracy: 0.7281\n",
      "Epoch 24/50\n",
      "137/137 [==============================] - 220s 2s/step - loss: 0.2143 - accuracy: 0.7442 - val_loss: 0.2231 - val_accuracy: 0.6551\n",
      "Epoch 25/50\n",
      "137/137 [==============================] - 218s 2s/step - loss: 0.1980 - accuracy: 0.7476 - val_loss: 0.2491 - val_accuracy: 0.6624\n",
      "Epoch 26/50\n",
      "137/137 [==============================] - 225s 2s/step - loss: 0.1912 - accuracy: 0.7380 - val_loss: 0.2742 - val_accuracy: 0.6259\n"
     ]
    },
    {
     "data": {
      "text/plain": [
       "<keras.callbacks.History at 0x237746e0ca0>"
      ]
     },
     "execution_count": 63,
     "metadata": {},
     "output_type": "execute_result"
    }
   ],
   "source": [
    "# alexnet.fit(X_train, y_train, batch_size=32, epochs=50, validation_data=(X_val, y_val), callbacks=[es])"
   ]
  },
  {
   "cell_type": "markdown",
   "id": "dd34aa48",
   "metadata": {},
   "source": [
    "As observed, the training stopped at the `26th` epoch as the model will start overfitting at the `27th` epoch. This indicates that the optimal number of epochs to train the model is `26` given a batch size value of `32`."
   ]
  },
  {
   "cell_type": "markdown",
   "id": "a31b62b3",
   "metadata": {},
   "source": [
    "With the AlexNet model trained and optimized, lets see how it will perform with the test set."
   ]
  },
  {
   "cell_type": "code",
   "execution_count": 137,
   "id": "9684cb77",
   "metadata": {},
   "outputs": [
    {
     "name": "stdout",
     "output_type": "stream",
     "text": [
      "18/18 [==============================] - 5s 286ms/step\n"
     ]
    },
    {
     "data": {
      "text/plain": [
       "array([[0.998946  , 0.03401757],\n",
       "       [0.9868792 , 0.10287965],\n",
       "       [0.47703925, 0.48597008],\n",
       "       ...,\n",
       "       [0.31098747, 0.34133416],\n",
       "       [0.8043495 , 0.2695518 ],\n",
       "       [0.99293226, 0.5796675 ]], dtype=float32)"
      ]
     },
     "execution_count": 137,
     "metadata": {},
     "output_type": "execute_result"
    }
   ],
   "source": [
    "# predict on test set\n",
    "predictions = alexnet.predict(X_test)\n",
    "\n",
    "# display predictions\n",
    "predictions"
   ]
  },
  {
   "cell_type": "markdown",
   "id": "e9d10534",
   "metadata": {},
   "source": [
    "Lets check how many correct multi-label predictions did the AlexNet model made on the test set. \n",
    "\n",
    "First, lets create the `compute_accuracy()` function below which gets the **number** of correct multi-label predictions from the model on a specified dataset as well as its **accuracy**. The `predictions` is a numpy array containing the model's predictions on the dataset while the `actual` is a numpy array containing the actual `ground truth` labels per each image in the dataset."
   ]
  },
  {
   "cell_type": "code",
   "execution_count": 58,
   "id": "b9bf374c",
   "metadata": {},
   "outputs": [],
   "source": [
    "def compute_accuracy(predictions, actual):\n",
    "    correct = 0\n",
    "    pred = np.round(predictions) # round off values first\n",
    "    for i in range(len(pred) - 1):\n",
    "        if pred[i][0] == actual[i][0] and pred[i][1] == actual[i][1]:\n",
    "            correct += 1\n",
    "    return correct, correct / len(actual)"
   ]
  },
  {
   "cell_type": "markdown",
   "id": "b31cf34c",
   "metadata": {},
   "source": [
    "Lets now get the number of correct predictions as well as the accuracy of the model on the test set."
   ]
  },
  {
   "cell_type": "code",
   "execution_count": 142,
   "id": "111e9d21",
   "metadata": {},
   "outputs": [
    {
     "name": "stdout",
     "output_type": "stream",
     "text": [
      "Number of correct predictions: 470 / 548\n",
      "Test accuracy: 0.8576642335766423\n"
     ]
    }
   ],
   "source": [
    "correct, accuracy = compute_accuracy(predictions, y_test)\n",
    "\n",
    "print(\"Number of correct predictions: {} / {}\".format(correct, len(y_test)))\n",
    "print(\"Test accuracy: {}\".format(accuracy))"
   ]
  },
  {
   "cell_type": "markdown",
   "id": "b37c2c21",
   "metadata": {},
   "source": [
    "Out of `548` test set instances, the AlexNet model was able to predict `470` instances correctly. The test accuracy achieved by the model is `85.7664`%."
   ]
  },
  {
   "cell_type": "markdown",
   "id": "23ed7b66",
   "metadata": {},
   "source": [
    "##### **_VGG-16_**"
   ]
  },
  {
   "cell_type": "markdown",
   "id": "e127622d",
   "metadata": {},
   "source": []
  },
  {
   "cell_type": "markdown",
   "id": "40278a28",
   "metadata": {},
   "source": [
    "##### **_Squeezenet_**\n"
   ]
  },
  {
   "cell_type": "markdown",
   "id": "3e98ced5",
   "metadata": {},
   "source": [
    "**SqueezeNet** is a _small_ CNN architecture proposed by Iandola et al. (2017) as a lightweight alternative to AlexNet (Krizshevsky et al., 2012). Their implementation of SqueezeNet reached similar accuarcy levels with AlexNet on the ImageNet dataset while having 50 times less parameters (Iandola et al., 2017). Alongside this, using some model compression approaches, they were also able to lessen the size of SqueezeNet to less than 0.5MB - which is 510 times smaller than AlexNet (Iandola et al., 2017).\n",
    "\n",
    "In designing the architecture of SqueezeNet, Iandola et al. (2017) noted three (3) strategies:\n",
    "1. ***Replace 3x3 filters with 1x1 filters.*** This is to reduce the number of parameters - since a 1x1 filter has 9 times fewer parameters than a 3x3 filter.\n",
    "2. ***Decrease the number of input channels to 3x3 filters.*** This is to reduce the number of parameters as well by limiting the number of input channels to the 3x3 filters using the _squeeze layer_ as shown in the figure below.\n",
    "3. ***Downsample late in the networks to that convolution layers have large activation maps.*** This is to have a higher classification accuracy due to said large activation maps.\n",
    "\n",
    "<img src=\"References/SqueezeNet_FireModule.png\" width=\"500\"/>\n",
    "\n",
    "SqueezeNet uses **fire modules** in implementing its layers. Keeping in mind the aforementioned architectural strategies, a single fire module contains: (1) a ***squeeze convolution layer*** that contains only 1x1 filters, and (2) an ***expand convolution layer*** that contains a combination of 1x1 and 3x3 convolution layers. A **ReLU activation function** is also used on the outputs of both the squeeze and expand convolution layers.\n",
    "\n",
    "The figure below shows three SqueezeNet architecture variations used by Iandola et al. (2017) for the ImageNet dataset. At the leftmost is the base architecture of SqueezeNet. At the center is a SqueezeNet architecture that uses a simple bypass. At the rightmost is a SqueezeNet architecture that uses a complex bypass.\n",
    "\n",
    "<img src=\"References/SqueezeNet_ImageNetArchitecture.png\" width=\"500\"/>\n",
    "\n",
    "The base architecture of SqueezeNet (leftmost) starts with a single convolution layer (`conv1`), followed by `8` fire modules (`fire2` to `fire9`), before ending with another convolution layer (`conv10`). The number of filters for each fire module were also gradually increased from the start up until to the end of the network. Alonside this, **max-pooling** with a `stride` of `2` are also used at various points in the architecture (after `conv1`, `fire4`, and `fire8`). At the very end of the network, a **glboal average pooling** was used on the output of `conv10`, before finally being sent into a **softmax activation function**."
   ]
  },
  {
   "cell_type": "markdown",
   "id": "70b4a6ee",
   "metadata": {},
   "source": [
    "In using the SqueezeNet model in performing the needed task on the Tom and Jerry dataset, we will also be using `keras` to implement the **fire module** function used by Iandola et al. (2017). This function was adapated from the SqueezeNet section from a guide in Google Codelabs created by Görner (2021) entitled _\"Modern convnets, squeezenet, Xception, with Keras and TPUs\"_.\n",
    "\n",
    "Link to guide: https://codelabs.developers.google.com/codelabs/keras-flowers-squeezenet\n",
    "\n",
    "Let's import all of the needed functions from `keras` to construct the SqueezeNet model."
   ]
  },
  {
   "cell_type": "code",
   "execution_count": 59,
   "id": "b33f4f22",
   "metadata": {},
   "outputs": [],
   "source": [
    "import tensorflow as tf\n",
    "from keras.layers import Conv2D, MaxPooling2D, Dense, concatenate, GlobalAveragePooling2D, Input, AveragePooling2D, BatchNormalization, Flatten\n",
    "from keras.models import Model "
   ]
  },
  {
   "cell_type": "markdown",
   "id": "b28f0886",
   "metadata": {},
   "source": [
    "Now, we define the **fire module** that we will be using in constructing our model."
   ]
  },
  {
   "cell_type": "code",
   "execution_count": 60,
   "id": "38cc6c39",
   "metadata": {},
   "outputs": [],
   "source": [
    "def fire(x, squeeze, expand):\n",
    "    # Squeeze Layer\n",
    "    y = Conv2D(filters=squeeze, kernel_size=1, padding='same', activation='relu')(x)\n",
    "    y = tf.keras.layers.BatchNormalization()(y)\n",
    "    # Expand Layers\n",
    "    y1 = Conv2D(filters=expand//2, kernel_size=1, padding='same', activation='relu')(y)\n",
    "    y1 = tf.keras.layers.BatchNormalization()(y1)\n",
    "    y3 = Conv2D(filters=expand//2, kernel_size=3, padding='same', activation='relu')(y1)\n",
    "    y3 = tf.keras.layers.BatchNormalization()(y3)\n",
    "    return concatenate([y1, y3])\n",
    "\n",
    "def fire_module(squeeze, expand):\n",
    "    return lambda x: fire(x, squeeze, expand)"
   ]
  },
  {
   "cell_type": "markdown",
   "id": "71dd5e63",
   "metadata": {},
   "source": [
    "With the `keras` functions and fire module ready, let's construct SqueezeNet-inspired model for multi-label image classification.\n",
    "\n",
    "Note that the model below does not strictly follow the actual SqueezeNet architecture created by Iandola et al. (2017) for the ImageNet dataset. Instead, it follows a simpler architecture while still keeping in mind the principles in which the original SqueezeNet architecture was based on (i.e., the use of the fire module). This implementation was inspired by the Google Codelabs guide created by Görner (2021)."
   ]
  },
  {
   "cell_type": "code",
   "execution_count": 67,
   "id": "0953f347",
   "metadata": {},
   "outputs": [],
   "source": [
    "# usage:\n",
    "x = Input(shape=[224, 224, 3])\n",
    "\n",
    "y = Conv2D(kernel_size=3, filters=32, padding='same', activation='relu')(x)\n",
    "y = BatchNormalization()(y)\n",
    "y = fire_module(24, 48)(y)\n",
    "y = MaxPooling2D(pool_size=2)(y)\n",
    "y = fire_module(48, 96)(y)\n",
    "y = MaxPooling2D(pool_size=2)(y)\n",
    "y = fire_module(64, 128)(y)\n",
    "y = MaxPooling2D(pool_size=2)(y)\n",
    "y = fire_module(48, 96)(y)\n",
    "y = MaxPooling2D(pool_size=2)(y)\n",
    "y = fire_module(24, 48)(y)\n",
    "y = GlobalAveragePooling2D()(y)\n",
    "y = Dense(2, activation='sigmoid')(y)\n",
    "\n",
    "squeezenet = Model(x, y)"
   ]
  },
  {
   "cell_type": "markdown",
   "id": "4dfd6f4a",
   "metadata": {},
   "source": [
    "The SqueezeNet-inspired model above uses a `3x3 convolution layer` with `32 filters` that uses a `ReLU` activation function at the start. Afterwards, as recommended in the guide by Görner (2021), adding batch normalization after every convolution layer will aid with alleviating potential convergence problems. A total of two (2) fire modules were used with `24 1x1 convolution layers` for the squeeze layers and `24 1x1 + 24 3x3 convolution layers` for the expand layers. Max-pooling was also used on the output of the first fire module, and global average pooling was used for the output of the second fire module. Finally, a `Dense` layer with a `sigmoid` function was used in producing the final output of the model."
   ]
  },
  {
   "cell_type": "markdown",
   "id": "cde70289",
   "metadata": {},
   "source": [
    "Let's now display the summary of the SqueezeNet-inspired model."
   ]
  },
  {
   "cell_type": "code",
   "execution_count": 68,
   "id": "89e06ea9",
   "metadata": {
    "scrolled": true
   },
   "outputs": [
    {
     "name": "stdout",
     "output_type": "stream",
     "text": [
      "Model: \"model_5\"\n",
      "__________________________________________________________________________________________________\n",
      " Layer (type)                   Output Shape         Param #     Connected to                     \n",
      "==================================================================================================\n",
      " input_7 (InputLayer)           [(None, 224, 224, 3  0           []                               \n",
      "                                )]                                                                \n",
      "                                                                                                  \n",
      " conv2d_394 (Conv2D)            (None, 224, 224, 32  896         ['input_7[0][0]']                \n",
      "                                )                                                                 \n",
      "                                                                                                  \n",
      " batch_normalization_394 (Batch  (None, 224, 224, 32  128        ['conv2d_394[0][0]']             \n",
      " Normalization)                 )                                                                 \n",
      "                                                                                                  \n",
      " conv2d_395 (Conv2D)            (None, 224, 224, 24  792         ['batch_normalization_394[0][0]']\n",
      "                                )                                                                 \n",
      "                                                                                                  \n",
      " batch_normalization_395 (Batch  (None, 224, 224, 24  96         ['conv2d_395[0][0]']             \n",
      " Normalization)                 )                                                                 \n",
      "                                                                                                  \n",
      " conv2d_396 (Conv2D)            (None, 224, 224, 24  600         ['batch_normalization_395[0][0]']\n",
      "                                )                                                                 \n",
      "                                                                                                  \n",
      " batch_normalization_396 (Batch  (None, 224, 224, 24  96         ['conv2d_396[0][0]']             \n",
      " Normalization)                 )                                                                 \n",
      "                                                                                                  \n",
      " conv2d_397 (Conv2D)            (None, 224, 224, 24  5208        ['batch_normalization_396[0][0]']\n",
      "                                )                                                                 \n",
      "                                                                                                  \n",
      " batch_normalization_397 (Batch  (None, 224, 224, 24  96         ['conv2d_397[0][0]']             \n",
      " Normalization)                 )                                                                 \n",
      "                                                                                                  \n",
      " concatenate_12 (Concatenate)   (None, 224, 224, 48  0           ['batch_normalization_396[0][0]',\n",
      "                                )                                 'batch_normalization_397[0][0]']\n",
      "                                                                                                  \n",
      " max_pooling2d_22 (MaxPooling2D  (None, 112, 112, 48  0          ['concatenate_12[0][0]']         \n",
      " )                              )                                                                 \n",
      "                                                                                                  \n",
      " conv2d_398 (Conv2D)            (None, 112, 112, 48  2352        ['max_pooling2d_22[0][0]']       \n",
      "                                )                                                                 \n",
      "                                                                                                  \n",
      " batch_normalization_398 (Batch  (None, 112, 112, 48  192        ['conv2d_398[0][0]']             \n",
      " Normalization)                 )                                                                 \n",
      "                                                                                                  \n",
      " conv2d_399 (Conv2D)            (None, 112, 112, 48  2352        ['batch_normalization_398[0][0]']\n",
      "                                )                                                                 \n",
      "                                                                                                  \n",
      " batch_normalization_399 (Batch  (None, 112, 112, 48  192        ['conv2d_399[0][0]']             \n",
      " Normalization)                 )                                                                 \n",
      "                                                                                                  \n",
      " conv2d_400 (Conv2D)            (None, 112, 112, 48  20784       ['batch_normalization_399[0][0]']\n",
      "                                )                                                                 \n",
      "                                                                                                  \n",
      " batch_normalization_400 (Batch  (None, 112, 112, 48  192        ['conv2d_400[0][0]']             \n",
      " Normalization)                 )                                                                 \n",
      "                                                                                                  \n",
      " concatenate_13 (Concatenate)   (None, 112, 112, 96  0           ['batch_normalization_399[0][0]',\n",
      "                                )                                 'batch_normalization_400[0][0]']\n",
      "                                                                                                  \n",
      " max_pooling2d_23 (MaxPooling2D  (None, 56, 56, 96)  0           ['concatenate_13[0][0]']         \n",
      " )                                                                                                \n",
      "                                                                                                  \n",
      " conv2d_401 (Conv2D)            (None, 56, 56, 64)   6208        ['max_pooling2d_23[0][0]']       \n",
      "                                                                                                  \n",
      " batch_normalization_401 (Batch  (None, 56, 56, 64)  256         ['conv2d_401[0][0]']             \n",
      " Normalization)                                                                                   \n",
      "                                                                                                  \n",
      " conv2d_402 (Conv2D)            (None, 56, 56, 64)   4160        ['batch_normalization_401[0][0]']\n",
      "                                                                                                  \n",
      " batch_normalization_402 (Batch  (None, 56, 56, 64)  256         ['conv2d_402[0][0]']             \n",
      " Normalization)                                                                                   \n",
      "                                                                                                  \n",
      " conv2d_403 (Conv2D)            (None, 56, 56, 64)   36928       ['batch_normalization_402[0][0]']\n",
      "                                                                                                  \n",
      " batch_normalization_403 (Batch  (None, 56, 56, 64)  256         ['conv2d_403[0][0]']             \n",
      " Normalization)                                                                                   \n",
      "                                                                                                  \n",
      " concatenate_14 (Concatenate)   (None, 56, 56, 128)  0           ['batch_normalization_402[0][0]',\n",
      "                                                                  'batch_normalization_403[0][0]']\n",
      "                                                                                                  \n",
      " max_pooling2d_24 (MaxPooling2D  (None, 28, 28, 128)  0          ['concatenate_14[0][0]']         \n",
      " )                                                                                                \n",
      "                                                                                                  \n",
      " conv2d_404 (Conv2D)            (None, 28, 28, 48)   6192        ['max_pooling2d_24[0][0]']       \n",
      "                                                                                                  \n"
     ]
    },
    {
     "name": "stdout",
     "output_type": "stream",
     "text": [
      " batch_normalization_404 (Batch  (None, 28, 28, 48)  192         ['conv2d_404[0][0]']             \n",
      " Normalization)                                                                                   \n",
      "                                                                                                  \n",
      " conv2d_405 (Conv2D)            (None, 28, 28, 48)   2352        ['batch_normalization_404[0][0]']\n",
      "                                                                                                  \n",
      " batch_normalization_405 (Batch  (None, 28, 28, 48)  192         ['conv2d_405[0][0]']             \n",
      " Normalization)                                                                                   \n",
      "                                                                                                  \n",
      " conv2d_406 (Conv2D)            (None, 28, 28, 48)   20784       ['batch_normalization_405[0][0]']\n",
      "                                                                                                  \n",
      " batch_normalization_406 (Batch  (None, 28, 28, 48)  192         ['conv2d_406[0][0]']             \n",
      " Normalization)                                                                                   \n",
      "                                                                                                  \n",
      " concatenate_15 (Concatenate)   (None, 28, 28, 96)   0           ['batch_normalization_405[0][0]',\n",
      "                                                                  'batch_normalization_406[0][0]']\n",
      "                                                                                                  \n",
      " max_pooling2d_25 (MaxPooling2D  (None, 14, 14, 96)  0           ['concatenate_15[0][0]']         \n",
      " )                                                                                                \n",
      "                                                                                                  \n",
      " conv2d_407 (Conv2D)            (None, 14, 14, 24)   2328        ['max_pooling2d_25[0][0]']       \n",
      "                                                                                                  \n",
      " batch_normalization_407 (Batch  (None, 14, 14, 24)  96          ['conv2d_407[0][0]']             \n",
      " Normalization)                                                                                   \n",
      "                                                                                                  \n",
      " conv2d_408 (Conv2D)            (None, 14, 14, 24)   600         ['batch_normalization_407[0][0]']\n",
      "                                                                                                  \n",
      " batch_normalization_408 (Batch  (None, 14, 14, 24)  96          ['conv2d_408[0][0]']             \n",
      " Normalization)                                                                                   \n",
      "                                                                                                  \n",
      " conv2d_409 (Conv2D)            (None, 14, 14, 24)   5208        ['batch_normalization_408[0][0]']\n",
      "                                                                                                  \n",
      " batch_normalization_409 (Batch  (None, 14, 14, 24)  96          ['conv2d_409[0][0]']             \n",
      " Normalization)                                                                                   \n",
      "                                                                                                  \n",
      " concatenate_16 (Concatenate)   (None, 14, 14, 48)   0           ['batch_normalization_408[0][0]',\n",
      "                                                                  'batch_normalization_409[0][0]']\n",
      "                                                                                                  \n",
      " global_average_pooling2d_2 (Gl  (None, 48)          0           ['concatenate_16[0][0]']         \n",
      " obalAveragePooling2D)                                                                            \n",
      "                                                                                                  \n",
      " dense_8 (Dense)                (None, 2)            98          ['global_average_pooling2d_2[0][0\n",
      "                                                                 ]']                              \n",
      "                                                                                                  \n",
      "==================================================================================================\n",
      "Total params: 120,466\n",
      "Trainable params: 119,154\n",
      "Non-trainable params: 1,312\n",
      "__________________________________________________________________________________________________\n"
     ]
    }
   ],
   "source": [
    "squeezenet.summary()"
   ]
  },
  {
   "cell_type": "markdown",
   "id": "edb6b257",
   "metadata": {},
   "source": [
    "To reiterate, similar to the prior AlexNet implementation in this notebook, a **sigmoid function** is used as the output layer's activation function. Since this is a relatively simpler implementation of SqueezeNet, the number of parameters is quite low as well.\n",
    "\n",
    "Also, to optimize the SqueezeNet-inspired model for the task, we will be using **Binary Cross-Entropy** as the **loss function**. Along with this, we will use **Adaptive Moment Estimation (Adam)** as the **optimizer** for the model."
   ]
  },
  {
   "cell_type": "markdown",
   "id": "a5834bf1",
   "metadata": {},
   "source": [
    "Let's now **define** binary cross-entropy and adam as the loss function and optimizer to be used for model optimization. We will use the `compile()` function of the created model to do this. For the metrics, we only need the `accuracy` to see how the model has performed."
   ]
  },
  {
   "cell_type": "code",
   "execution_count": 69,
   "id": "cf58a58d",
   "metadata": {},
   "outputs": [],
   "source": [
    "squeezenet.compile(loss='binary_crossentropy', optimizer='adam', metrics=['binary_accuracy'])"
   ]
  },
  {
   "cell_type": "markdown",
   "id": "e2274478",
   "metadata": {},
   "source": [
    "For the training setup, we will be using the same setup as the other models used in this notebook."
   ]
  },
  {
   "cell_type": "code",
   "execution_count": 70,
   "id": "81849037",
   "metadata": {
    "scrolled": false
   },
   "outputs": [
    {
     "name": "stdout",
     "output_type": "stream",
     "text": [
      "Epoch 1/50\n",
      "69/69 [==============================] - 736s 11s/step - loss: 0.5303 - binary_accuracy: 0.7323 - val_loss: 0.7509 - val_binary_accuracy: 0.6040\n",
      "Epoch 2/50\n",
      "69/69 [==============================] - 700s 10s/step - loss: 0.3897 - binary_accuracy: 0.8267 - val_loss: 1.0406 - val_binary_accuracy: 0.6040\n",
      "Epoch 3/50\n",
      "69/69 [==============================] - 682s 10s/step - loss: 0.3370 - binary_accuracy: 0.8560 - val_loss: 1.0957 - val_binary_accuracy: 0.6040\n",
      "Epoch 4/50\n",
      "69/69 [==============================] - 696s 10s/step - loss: 0.2868 - binary_accuracy: 0.8873 - val_loss: 1.2259 - val_binary_accuracy: 0.6040\n",
      "Epoch 5/50\n",
      "69/69 [==============================] - 687s 10s/step - loss: 0.2323 - binary_accuracy: 0.9160 - val_loss: 1.4227 - val_binary_accuracy: 0.6040\n",
      "Epoch 6/50\n",
      "69/69 [==============================] - 659s 10s/step - loss: 0.1879 - binary_accuracy: 0.9337 - val_loss: 1.5978 - val_binary_accuracy: 0.6049\n"
     ]
    },
    {
     "data": {
      "text/plain": [
       "<keras.callbacks.History at 0x17745b6ae80>"
      ]
     },
     "execution_count": 70,
     "metadata": {},
     "output_type": "execute_result"
    }
   ],
   "source": [
    "squeezenet.fit(X_train, y_train, batch_size=64, epochs=50, validation_data=(X_val, y_val), callbacks=[es])"
   ]
  },
  {
   "cell_type": "markdown",
   "id": "f0aef86e",
   "metadata": {},
   "source": [
    "##### TODO: modify accordingly to training\n",
    "As observed, the training stopped at the `28th` epoch as the model is already starting to overfit. This indicates that the optimal number of epochs to train the model is `28` given a batch size value of `32`."
   ]
  },
  {
   "cell_type": "markdown",
   "id": "cf2ed55e",
   "metadata": {},
   "source": [
    "Let's see how well it performs on the training set."
   ]
  },
  {
   "cell_type": "code",
   "execution_count": 71,
   "id": "9b88d62f",
   "metadata": {},
   "outputs": [
    {
     "name": "stdout",
     "output_type": "stream",
     "text": [
      "137/137 [==============================] - 156s 1s/step - loss: 0.7712 - binary_accuracy: 0.5650\n"
     ]
    },
    {
     "data": {
      "text/plain": [
       "[0.7711743116378784, 0.565038800239563]"
      ]
     },
     "execution_count": 71,
     "metadata": {},
     "output_type": "execute_result"
    }
   ],
   "source": [
    "squeezenet.evaluate(X_train, y_train)"
   ]
  },
  {
   "cell_type": "markdown",
   "id": "c50bfe32",
   "metadata": {},
   "source": [
    "_TODO: Explain here._"
   ]
  },
  {
   "cell_type": "markdown",
   "id": "f32e765b",
   "metadata": {},
   "source": [
    "Let's now try it on the test set."
   ]
  },
  {
   "cell_type": "code",
   "execution_count": 72,
   "id": "b503edb9",
   "metadata": {},
   "outputs": [
    {
     "name": "stdout",
     "output_type": "stream",
     "text": [
      "18/18 [==============================] - 20s 1s/step - loss: 0.7751 - binary_accuracy: 0.5584\n"
     ]
    },
    {
     "data": {
      "text/plain": [
       "[0.775113582611084, 0.5583941340446472]"
      ]
     },
     "execution_count": 72,
     "metadata": {},
     "output_type": "execute_result"
    }
   ],
   "source": [
    "squeezenet.evaluate(X_test, y_test)"
   ]
  },
  {
   "cell_type": "markdown",
   "id": "36206935",
   "metadata": {},
   "source": [
    "_TODO: Explain here._"
   ]
  },
  {
   "cell_type": "code",
   "execution_count": 73,
   "id": "cc831059",
   "metadata": {},
   "outputs": [
    {
     "name": "stdout",
     "output_type": "stream",
     "text": [
      "Epoch 1/50\n",
      "69/69 [==============================] - 547s 8s/step - loss: 0.6210 - binary_accuracy: 0.6657 - val_loss: 0.6992 - val_binary_accuracy: 0.6040\n",
      "Epoch 2/50\n",
      "69/69 [==============================] - 498s 7s/step - loss: 0.5454 - binary_accuracy: 0.7432 - val_loss: 0.7886 - val_binary_accuracy: 0.6040\n",
      "Epoch 3/50\n",
      "69/69 [==============================] - 488s 7s/step - loss: 0.4912 - binary_accuracy: 0.7730 - val_loss: 0.9434 - val_binary_accuracy: 0.6031\n",
      "Epoch 4/50\n",
      "69/69 [==============================] - 491s 7s/step - loss: 0.4481 - binary_accuracy: 0.8008 - val_loss: 1.2048 - val_binary_accuracy: 0.4635\n",
      "Epoch 5/50\n",
      "69/69 [==============================] - 493s 7s/step - loss: 0.4199 - binary_accuracy: 0.8126 - val_loss: 1.3112 - val_binary_accuracy: 0.4827\n",
      "Epoch 6/50\n",
      "69/69 [==============================] - 489s 7s/step - loss: 0.3861 - binary_accuracy: 0.8303 - val_loss: 0.8180 - val_binary_accuracy: 0.5940\n"
     ]
    },
    {
     "data": {
      "text/plain": [
       "<keras.callbacks.History at 0x17744fbe160>"
      ]
     },
     "execution_count": 73,
     "metadata": {},
     "output_type": "execute_result"
    }
   ],
   "source": [
    "# usage:\n",
    "x = Input(shape=[224, 224, 3])\n",
    "\n",
    "y = Conv2D(kernel_size=3, filters=32, padding='same', activation='relu')(x)\n",
    "y = BatchNormalization()(y)\n",
    "y = fire_module(24, 48)(y)\n",
    "y = MaxPooling2D(pool_size=2)(y)\n",
    "y = fire_module(24, 48)(y)\n",
    "y = MaxPooling2D(pool_size=2)(y)\n",
    "y = fire_module(24, 48)(y)\n",
    "y = GlobalAveragePooling2D()(y)\n",
    "y = Dense(2, activation='sigmoid')(y)\n",
    "\n",
    "squeezenet2 = Model(x, y)\n",
    "\n",
    "squeezenet2.compile(loss='binary_crossentropy', optimizer='adam', metrics=['binary_accuracy'])\n",
    "\n",
    "squeezenet2.fit(X_train, y_train, batch_size=64, epochs=50, validation_data=(X_val, y_val), callbacks=[es])"
   ]
  },
  {
   "cell_type": "code",
   "execution_count": 74,
   "id": "fa1fb7fd",
   "metadata": {},
   "outputs": [
    {
     "name": "stdout",
     "output_type": "stream",
     "text": [
      "137/137 [==============================] - 108s 791ms/step - loss: 0.7112 - binary_accuracy: 0.5650\n"
     ]
    },
    {
     "data": {
      "text/plain": [
       "[0.7111881375312805, 0.565038800239563]"
      ]
     },
     "execution_count": 74,
     "metadata": {},
     "output_type": "execute_result"
    }
   ],
   "source": [
    "squeezenet2.evaluate(X_train, y_train)"
   ]
  },
  {
   "cell_type": "code",
   "execution_count": 75,
   "id": "bd707b8a",
   "metadata": {},
   "outputs": [
    {
     "name": "stdout",
     "output_type": "stream",
     "text": [
      "18/18 [==============================] - 14s 751ms/step - loss: 0.7129 - binary_accuracy: 0.5584\n"
     ]
    },
    {
     "data": {
      "text/plain": [
       "[0.7128751277923584, 0.5583941340446472]"
      ]
     },
     "execution_count": 75,
     "metadata": {},
     "output_type": "execute_result"
    }
   ],
   "source": [
    "squeezenet2.evaluate(X_test, y_test)"
   ]
  },
  {
   "cell_type": "code",
   "execution_count": 76,
   "id": "4b9bf093",
   "metadata": {},
   "outputs": [
    {
     "name": "stdout",
     "output_type": "stream",
     "text": [
      "Epoch 1/50\n",
      "69/69 [==============================] - 918s 13s/step - loss: 0.6069 - binary_accuracy: 0.6743 - val_loss: 0.6909 - val_binary_accuracy: 0.6040\n",
      "Epoch 2/50\n",
      "69/69 [==============================] - 917s 13s/step - loss: 0.4822 - binary_accuracy: 0.7695 - val_loss: 1.1082 - val_binary_accuracy: 0.4215\n",
      "Epoch 3/50\n",
      "69/69 [==============================] - 919s 13s/step - loss: 0.4215 - binary_accuracy: 0.8065 - val_loss: 0.9109 - val_binary_accuracy: 0.6013\n",
      "Epoch 4/50\n",
      "69/69 [==============================] - 923s 13s/step - loss: 0.3862 - binary_accuracy: 0.8244 - val_loss: 1.5343 - val_binary_accuracy: 0.4234\n",
      "Epoch 5/50\n",
      "69/69 [==============================] - 918s 13s/step - loss: 0.3558 - binary_accuracy: 0.8456 - val_loss: 0.8467 - val_binary_accuracy: 0.5648\n",
      "Epoch 6/50\n",
      "69/69 [==============================] - 917s 13s/step - loss: 0.3111 - binary_accuracy: 0.8673 - val_loss: 0.8244 - val_binary_accuracy: 0.6241\n"
     ]
    },
    {
     "data": {
      "text/plain": [
       "<keras.callbacks.History at 0x1774487cdf0>"
      ]
     },
     "execution_count": 76,
     "metadata": {},
     "output_type": "execute_result"
    }
   ],
   "source": [
    "# usage:\n",
    "x = Input(shape=[224, 224, 3])\n",
    "\n",
    "y = Conv2D(kernel_size=3, filters=32, padding='same', activation='relu')(x)\n",
    "y = BatchNormalization()(y)\n",
    "y = fire_module(32, 64)(y)\n",
    "y = MaxPooling2D(pool_size=2)(y)\n",
    "y = fire_module(64, 128)(y)\n",
    "y = MaxPooling2D(pool_size=2)(y)\n",
    "y = fire_module(96, 384)(y)\n",
    "y = GlobalAveragePooling2D()(y)\n",
    "y = Dropout(0.5)(y)\n",
    "y = Dense(2, activation='sigmoid')(y)\n",
    "\n",
    "squeezenet3 = Model(x, y)\n",
    "\n",
    "squeezenet3.compile(loss='binary_crossentropy', optimizer='adam', metrics=['binary_accuracy'])\n",
    "\n",
    "squeezenet3.fit(X_train, y_train, batch_size=64, epochs=50, validation_data=(X_val, y_val), callbacks=[es])"
   ]
  },
  {
   "cell_type": "code",
   "execution_count": 77,
   "id": "d0db1738",
   "metadata": {},
   "outputs": [
    {
     "name": "stdout",
     "output_type": "stream",
     "text": [
      "137/137 [==============================] - 223s 2s/step - loss: 0.7095 - binary_accuracy: 0.5650\n"
     ]
    },
    {
     "data": {
      "text/plain": [
       "[0.7094593048095703, 0.565038800239563]"
      ]
     },
     "execution_count": 77,
     "metadata": {},
     "output_type": "execute_result"
    }
   ],
   "source": [
    "squeezenet3.evaluate(X_train, y_train)"
   ]
  },
  {
   "cell_type": "code",
   "execution_count": 78,
   "id": "974ba458",
   "metadata": {},
   "outputs": [
    {
     "name": "stdout",
     "output_type": "stream",
     "text": [
      "18/18 [==============================] - 53s 2s/step - loss: 0.7130 - binary_accuracy: 0.5584\n"
     ]
    },
    {
     "data": {
      "text/plain": [
       "[0.7130312919616699, 0.5583941340446472]"
      ]
     },
     "execution_count": 78,
     "metadata": {},
     "output_type": "execute_result"
    }
   ],
   "source": [
    "squeezenet3.evaluate(X_test, y_test)"
   ]
  },
  {
   "cell_type": "code",
   "execution_count": 79,
   "id": "9d7153d5",
   "metadata": {},
   "outputs": [
    {
     "name": "stdout",
     "output_type": "stream",
     "text": [
      "Epoch 1/50\n"
     ]
    },
    {
     "ename": "ResourceExhaustedError",
     "evalue": "Graph execution error:\n\nDetected at node 'model_8/batch_normalization_455/FusedBatchNormV3' defined at (most recent call last):\n    File \"D:\\Programs\\Anaconda3\\lib\\runpy.py\", line 197, in _run_module_as_main\n      return _run_code(code, main_globals, None,\n    File \"D:\\Programs\\Anaconda3\\lib\\runpy.py\", line 87, in _run_code\n      exec(code, run_globals)\n    File \"D:\\Programs\\Anaconda3\\lib\\site-packages\\ipykernel_launcher.py\", line 16, in <module>\n      app.launch_new_instance()\n    File \"D:\\Programs\\Anaconda3\\lib\\site-packages\\traitlets\\config\\application.py\", line 846, in launch_instance\n      app.start()\n    File \"D:\\Programs\\Anaconda3\\lib\\site-packages\\ipykernel\\kernelapp.py\", line 677, in start\n      self.io_loop.start()\n    File \"D:\\Programs\\Anaconda3\\lib\\site-packages\\tornado\\platform\\asyncio.py\", line 199, in start\n      self.asyncio_loop.run_forever()\n    File \"D:\\Programs\\Anaconda3\\lib\\asyncio\\base_events.py\", line 596, in run_forever\n      self._run_once()\n    File \"D:\\Programs\\Anaconda3\\lib\\asyncio\\base_events.py\", line 1890, in _run_once\n      handle._run()\n    File \"D:\\Programs\\Anaconda3\\lib\\asyncio\\events.py\", line 80, in _run\n      self._context.run(self._callback, *self._args)\n    File \"D:\\Programs\\Anaconda3\\lib\\site-packages\\ipykernel\\kernelbase.py\", line 457, in dispatch_queue\n      await self.process_one()\n    File \"D:\\Programs\\Anaconda3\\lib\\site-packages\\ipykernel\\kernelbase.py\", line 446, in process_one\n      await dispatch(*args)\n    File \"D:\\Programs\\Anaconda3\\lib\\site-packages\\ipykernel\\kernelbase.py\", line 353, in dispatch_shell\n      await result\n    File \"D:\\Programs\\Anaconda3\\lib\\site-packages\\ipykernel\\kernelbase.py\", line 648, in execute_request\n      reply_content = await reply_content\n    File \"D:\\Programs\\Anaconda3\\lib\\site-packages\\ipykernel\\ipkernel.py\", line 353, in do_execute\n      res = shell.run_cell(code, store_history=store_history, silent=silent)\n    File \"D:\\Programs\\Anaconda3\\lib\\site-packages\\ipykernel\\zmqshell.py\", line 533, in run_cell\n      return super(ZMQInteractiveShell, self).run_cell(*args, **kwargs)\n    File \"D:\\Programs\\Anaconda3\\lib\\site-packages\\IPython\\core\\interactiveshell.py\", line 2901, in run_cell\n      result = self._run_cell(\n    File \"D:\\Programs\\Anaconda3\\lib\\site-packages\\IPython\\core\\interactiveshell.py\", line 2947, in _run_cell\n      return runner(coro)\n    File \"D:\\Programs\\Anaconda3\\lib\\site-packages\\IPython\\core\\async_helpers.py\", line 68, in _pseudo_sync_runner\n      coro.send(None)\n    File \"D:\\Programs\\Anaconda3\\lib\\site-packages\\IPython\\core\\interactiveshell.py\", line 3172, in run_cell_async\n      has_raised = await self.run_ast_nodes(code_ast.body, cell_name,\n    File \"D:\\Programs\\Anaconda3\\lib\\site-packages\\IPython\\core\\interactiveshell.py\", line 3364, in run_ast_nodes\n      if (await self.run_code(code, result,  async_=asy)):\n    File \"D:\\Programs\\Anaconda3\\lib\\site-packages\\IPython\\core\\interactiveshell.py\", line 3444, in run_code\n      exec(code_obj, self.user_global_ns, self.user_ns)\n    File \"C:\\Users\\andre\\AppData\\Local\\Temp/ipykernel_14312/2673117339.py\", line 35, in <module>\n      squeezenet4.fit(X_train, y_train, batch_size=64, epochs=50, validation_data=(X_val, y_val), callbacks=[es])\n    File \"D:\\Programs\\Anaconda3\\lib\\site-packages\\keras\\utils\\traceback_utils.py\", line 64, in error_handler\n      return fn(*args, **kwargs)\n    File \"D:\\Programs\\Anaconda3\\lib\\site-packages\\keras\\engine\\training.py\", line 1409, in fit\n      tmp_logs = self.train_function(iterator)\n    File \"D:\\Programs\\Anaconda3\\lib\\site-packages\\keras\\engine\\training.py\", line 1051, in train_function\n      return step_function(self, iterator)\n    File \"D:\\Programs\\Anaconda3\\lib\\site-packages\\keras\\engine\\training.py\", line 1040, in step_function\n      outputs = model.distribute_strategy.run(run_step, args=(data,))\n    File \"D:\\Programs\\Anaconda3\\lib\\site-packages\\keras\\engine\\training.py\", line 1030, in run_step\n      outputs = model.train_step(data)\n    File \"D:\\Programs\\Anaconda3\\lib\\site-packages\\keras\\engine\\training.py\", line 889, in train_step\n      y_pred = self(x, training=True)\n    File \"D:\\Programs\\Anaconda3\\lib\\site-packages\\keras\\utils\\traceback_utils.py\", line 64, in error_handler\n      return fn(*args, **kwargs)\n    File \"D:\\Programs\\Anaconda3\\lib\\site-packages\\keras\\engine\\training.py\", line 490, in __call__\n      return super().__call__(*args, **kwargs)\n    File \"D:\\Programs\\Anaconda3\\lib\\site-packages\\keras\\utils\\traceback_utils.py\", line 64, in error_handler\n      return fn(*args, **kwargs)\n    File \"D:\\Programs\\Anaconda3\\lib\\site-packages\\keras\\engine\\base_layer.py\", line 1014, in __call__\n      outputs = call_fn(inputs, *args, **kwargs)\n    File \"D:\\Programs\\Anaconda3\\lib\\site-packages\\keras\\utils\\traceback_utils.py\", line 92, in error_handler\n      return fn(*args, **kwargs)\n    File \"D:\\Programs\\Anaconda3\\lib\\site-packages\\keras\\engine\\functional.py\", line 458, in call\n      return self._run_internal_graph(\n    File \"D:\\Programs\\Anaconda3\\lib\\site-packages\\keras\\engine\\functional.py\", line 596, in _run_internal_graph\n      outputs = node.layer(*args, **kwargs)\n    File \"D:\\Programs\\Anaconda3\\lib\\site-packages\\keras\\utils\\traceback_utils.py\", line 64, in error_handler\n      return fn(*args, **kwargs)\n    File \"D:\\Programs\\Anaconda3\\lib\\site-packages\\keras\\engine\\base_layer.py\", line 1014, in __call__\n      outputs = call_fn(inputs, *args, **kwargs)\n    File \"D:\\Programs\\Anaconda3\\lib\\site-packages\\keras\\utils\\traceback_utils.py\", line 92, in error_handler\n      return fn(*args, **kwargs)\n    File \"D:\\Programs\\Anaconda3\\lib\\site-packages\\keras\\layers\\normalization\\batch_normalization.py\", line 750, in call\n      outputs = self._fused_batch_norm(inputs, training=training)\n    File \"D:\\Programs\\Anaconda3\\lib\\site-packages\\keras\\layers\\normalization\\batch_normalization.py\", line 594, in _fused_batch_norm\n      output, mean, variance = control_flow_util.smart_cond(\n    File \"D:\\Programs\\Anaconda3\\lib\\site-packages\\keras\\utils\\control_flow_util.py\", line 105, in smart_cond\n      return tf.__internal__.smart_cond.smart_cond(\n    File \"D:\\Programs\\Anaconda3\\lib\\site-packages\\keras\\layers\\normalization\\batch_normalization.py\", line 571, in _fused_batch_norm_training\n      return tf.compat.v1.nn.fused_batch_norm(\nNode: 'model_8/batch_normalization_455/FusedBatchNormV3'\nOOM when allocating tensor with shape[64,224,224,1000] and type float on /job:localhost/replica:0/task:0/device:CPU:0 by allocator cpu\n\t [[{{node model_8/batch_normalization_455/FusedBatchNormV3}}]]\nHint: If you want to see a list of allocated tensors when OOM happens, add report_tensor_allocations_upon_oom to RunOptions for current allocation info. This isn't available when running in Eager mode.\n [Op:__inference_train_function_140832]",
     "output_type": "error",
     "traceback": [
      "\u001b[1;31m---------------------------------------------------------------------------\u001b[0m",
      "\u001b[1;31mResourceExhaustedError\u001b[0m                    Traceback (most recent call last)",
      "\u001b[1;32m~\\AppData\\Local\\Temp/ipykernel_14312/2673117339.py\u001b[0m in \u001b[0;36m<module>\u001b[1;34m\u001b[0m\n\u001b[0;32m     33\u001b[0m \u001b[0msqueezenet4\u001b[0m\u001b[1;33m.\u001b[0m\u001b[0mcompile\u001b[0m\u001b[1;33m(\u001b[0m\u001b[0mloss\u001b[0m\u001b[1;33m=\u001b[0m\u001b[1;34m'binary_crossentropy'\u001b[0m\u001b[1;33m,\u001b[0m \u001b[0moptimizer\u001b[0m\u001b[1;33m=\u001b[0m\u001b[1;34m'adam'\u001b[0m\u001b[1;33m,\u001b[0m \u001b[0mmetrics\u001b[0m\u001b[1;33m=\u001b[0m\u001b[1;33m[\u001b[0m\u001b[1;34m'binary_accuracy'\u001b[0m\u001b[1;33m]\u001b[0m\u001b[1;33m)\u001b[0m\u001b[1;33m\u001b[0m\u001b[1;33m\u001b[0m\u001b[0m\n\u001b[0;32m     34\u001b[0m \u001b[1;33m\u001b[0m\u001b[0m\n\u001b[1;32m---> 35\u001b[1;33m \u001b[0msqueezenet4\u001b[0m\u001b[1;33m.\u001b[0m\u001b[0mfit\u001b[0m\u001b[1;33m(\u001b[0m\u001b[0mX_train\u001b[0m\u001b[1;33m,\u001b[0m \u001b[0my_train\u001b[0m\u001b[1;33m,\u001b[0m \u001b[0mbatch_size\u001b[0m\u001b[1;33m=\u001b[0m\u001b[1;36m64\u001b[0m\u001b[1;33m,\u001b[0m \u001b[0mepochs\u001b[0m\u001b[1;33m=\u001b[0m\u001b[1;36m50\u001b[0m\u001b[1;33m,\u001b[0m \u001b[0mvalidation_data\u001b[0m\u001b[1;33m=\u001b[0m\u001b[1;33m(\u001b[0m\u001b[0mX_val\u001b[0m\u001b[1;33m,\u001b[0m \u001b[0my_val\u001b[0m\u001b[1;33m)\u001b[0m\u001b[1;33m,\u001b[0m \u001b[0mcallbacks\u001b[0m\u001b[1;33m=\u001b[0m\u001b[1;33m[\u001b[0m\u001b[0mes\u001b[0m\u001b[1;33m]\u001b[0m\u001b[1;33m)\u001b[0m\u001b[1;33m\u001b[0m\u001b[1;33m\u001b[0m\u001b[0m\n\u001b[0m",
      "\u001b[1;32mD:\\Programs\\Anaconda3\\lib\\site-packages\\keras\\utils\\traceback_utils.py\u001b[0m in \u001b[0;36merror_handler\u001b[1;34m(*args, **kwargs)\u001b[0m\n\u001b[0;32m     65\u001b[0m     \u001b[1;32mexcept\u001b[0m \u001b[0mException\u001b[0m \u001b[1;32mas\u001b[0m \u001b[0me\u001b[0m\u001b[1;33m:\u001b[0m  \u001b[1;31m# pylint: disable=broad-except\u001b[0m\u001b[1;33m\u001b[0m\u001b[1;33m\u001b[0m\u001b[0m\n\u001b[0;32m     66\u001b[0m       \u001b[0mfiltered_tb\u001b[0m \u001b[1;33m=\u001b[0m \u001b[0m_process_traceback_frames\u001b[0m\u001b[1;33m(\u001b[0m\u001b[0me\u001b[0m\u001b[1;33m.\u001b[0m\u001b[0m__traceback__\u001b[0m\u001b[1;33m)\u001b[0m\u001b[1;33m\u001b[0m\u001b[1;33m\u001b[0m\u001b[0m\n\u001b[1;32m---> 67\u001b[1;33m       \u001b[1;32mraise\u001b[0m \u001b[0me\u001b[0m\u001b[1;33m.\u001b[0m\u001b[0mwith_traceback\u001b[0m\u001b[1;33m(\u001b[0m\u001b[0mfiltered_tb\u001b[0m\u001b[1;33m)\u001b[0m \u001b[1;32mfrom\u001b[0m \u001b[1;32mNone\u001b[0m\u001b[1;33m\u001b[0m\u001b[1;33m\u001b[0m\u001b[0m\n\u001b[0m\u001b[0;32m     68\u001b[0m     \u001b[1;32mfinally\u001b[0m\u001b[1;33m:\u001b[0m\u001b[1;33m\u001b[0m\u001b[1;33m\u001b[0m\u001b[0m\n\u001b[0;32m     69\u001b[0m       \u001b[1;32mdel\u001b[0m \u001b[0mfiltered_tb\u001b[0m\u001b[1;33m\u001b[0m\u001b[1;33m\u001b[0m\u001b[0m\n",
      "\u001b[1;32mD:\\Programs\\Anaconda3\\lib\\site-packages\\tensorflow\\python\\eager\\execute.py\u001b[0m in \u001b[0;36mquick_execute\u001b[1;34m(op_name, num_outputs, inputs, attrs, ctx, name)\u001b[0m\n\u001b[0;32m     52\u001b[0m   \u001b[1;32mtry\u001b[0m\u001b[1;33m:\u001b[0m\u001b[1;33m\u001b[0m\u001b[1;33m\u001b[0m\u001b[0m\n\u001b[0;32m     53\u001b[0m     \u001b[0mctx\u001b[0m\u001b[1;33m.\u001b[0m\u001b[0mensure_initialized\u001b[0m\u001b[1;33m(\u001b[0m\u001b[1;33m)\u001b[0m\u001b[1;33m\u001b[0m\u001b[1;33m\u001b[0m\u001b[0m\n\u001b[1;32m---> 54\u001b[1;33m     tensors = pywrap_tfe.TFE_Py_Execute(ctx._handle, device_name, op_name,\n\u001b[0m\u001b[0;32m     55\u001b[0m                                         inputs, attrs, num_outputs)\n\u001b[0;32m     56\u001b[0m   \u001b[1;32mexcept\u001b[0m \u001b[0mcore\u001b[0m\u001b[1;33m.\u001b[0m\u001b[0m_NotOkStatusException\u001b[0m \u001b[1;32mas\u001b[0m \u001b[0me\u001b[0m\u001b[1;33m:\u001b[0m\u001b[1;33m\u001b[0m\u001b[1;33m\u001b[0m\u001b[0m\n",
      "\u001b[1;31mResourceExhaustedError\u001b[0m: Graph execution error:\n\nDetected at node 'model_8/batch_normalization_455/FusedBatchNormV3' defined at (most recent call last):\n    File \"D:\\Programs\\Anaconda3\\lib\\runpy.py\", line 197, in _run_module_as_main\n      return _run_code(code, main_globals, None,\n    File \"D:\\Programs\\Anaconda3\\lib\\runpy.py\", line 87, in _run_code\n      exec(code, run_globals)\n    File \"D:\\Programs\\Anaconda3\\lib\\site-packages\\ipykernel_launcher.py\", line 16, in <module>\n      app.launch_new_instance()\n    File \"D:\\Programs\\Anaconda3\\lib\\site-packages\\traitlets\\config\\application.py\", line 846, in launch_instance\n      app.start()\n    File \"D:\\Programs\\Anaconda3\\lib\\site-packages\\ipykernel\\kernelapp.py\", line 677, in start\n      self.io_loop.start()\n    File \"D:\\Programs\\Anaconda3\\lib\\site-packages\\tornado\\platform\\asyncio.py\", line 199, in start\n      self.asyncio_loop.run_forever()\n    File \"D:\\Programs\\Anaconda3\\lib\\asyncio\\base_events.py\", line 596, in run_forever\n      self._run_once()\n    File \"D:\\Programs\\Anaconda3\\lib\\asyncio\\base_events.py\", line 1890, in _run_once\n      handle._run()\n    File \"D:\\Programs\\Anaconda3\\lib\\asyncio\\events.py\", line 80, in _run\n      self._context.run(self._callback, *self._args)\n    File \"D:\\Programs\\Anaconda3\\lib\\site-packages\\ipykernel\\kernelbase.py\", line 457, in dispatch_queue\n      await self.process_one()\n    File \"D:\\Programs\\Anaconda3\\lib\\site-packages\\ipykernel\\kernelbase.py\", line 446, in process_one\n      await dispatch(*args)\n    File \"D:\\Programs\\Anaconda3\\lib\\site-packages\\ipykernel\\kernelbase.py\", line 353, in dispatch_shell\n      await result\n    File \"D:\\Programs\\Anaconda3\\lib\\site-packages\\ipykernel\\kernelbase.py\", line 648, in execute_request\n      reply_content = await reply_content\n    File \"D:\\Programs\\Anaconda3\\lib\\site-packages\\ipykernel\\ipkernel.py\", line 353, in do_execute\n      res = shell.run_cell(code, store_history=store_history, silent=silent)\n    File \"D:\\Programs\\Anaconda3\\lib\\site-packages\\ipykernel\\zmqshell.py\", line 533, in run_cell\n      return super(ZMQInteractiveShell, self).run_cell(*args, **kwargs)\n    File \"D:\\Programs\\Anaconda3\\lib\\site-packages\\IPython\\core\\interactiveshell.py\", line 2901, in run_cell\n      result = self._run_cell(\n    File \"D:\\Programs\\Anaconda3\\lib\\site-packages\\IPython\\core\\interactiveshell.py\", line 2947, in _run_cell\n      return runner(coro)\n    File \"D:\\Programs\\Anaconda3\\lib\\site-packages\\IPython\\core\\async_helpers.py\", line 68, in _pseudo_sync_runner\n      coro.send(None)\n    File \"D:\\Programs\\Anaconda3\\lib\\site-packages\\IPython\\core\\interactiveshell.py\", line 3172, in run_cell_async\n      has_raised = await self.run_ast_nodes(code_ast.body, cell_name,\n    File \"D:\\Programs\\Anaconda3\\lib\\site-packages\\IPython\\core\\interactiveshell.py\", line 3364, in run_ast_nodes\n      if (await self.run_code(code, result,  async_=asy)):\n    File \"D:\\Programs\\Anaconda3\\lib\\site-packages\\IPython\\core\\interactiveshell.py\", line 3444, in run_code\n      exec(code_obj, self.user_global_ns, self.user_ns)\n    File \"C:\\Users\\andre\\AppData\\Local\\Temp/ipykernel_14312/2673117339.py\", line 35, in <module>\n      squeezenet4.fit(X_train, y_train, batch_size=64, epochs=50, validation_data=(X_val, y_val), callbacks=[es])\n    File \"D:\\Programs\\Anaconda3\\lib\\site-packages\\keras\\utils\\traceback_utils.py\", line 64, in error_handler\n      return fn(*args, **kwargs)\n    File \"D:\\Programs\\Anaconda3\\lib\\site-packages\\keras\\engine\\training.py\", line 1409, in fit\n      tmp_logs = self.train_function(iterator)\n    File \"D:\\Programs\\Anaconda3\\lib\\site-packages\\keras\\engine\\training.py\", line 1051, in train_function\n      return step_function(self, iterator)\n    File \"D:\\Programs\\Anaconda3\\lib\\site-packages\\keras\\engine\\training.py\", line 1040, in step_function\n      outputs = model.distribute_strategy.run(run_step, args=(data,))\n    File \"D:\\Programs\\Anaconda3\\lib\\site-packages\\keras\\engine\\training.py\", line 1030, in run_step\n      outputs = model.train_step(data)\n    File \"D:\\Programs\\Anaconda3\\lib\\site-packages\\keras\\engine\\training.py\", line 889, in train_step\n      y_pred = self(x, training=True)\n    File \"D:\\Programs\\Anaconda3\\lib\\site-packages\\keras\\utils\\traceback_utils.py\", line 64, in error_handler\n      return fn(*args, **kwargs)\n    File \"D:\\Programs\\Anaconda3\\lib\\site-packages\\keras\\engine\\training.py\", line 490, in __call__\n      return super().__call__(*args, **kwargs)\n    File \"D:\\Programs\\Anaconda3\\lib\\site-packages\\keras\\utils\\traceback_utils.py\", line 64, in error_handler\n      return fn(*args, **kwargs)\n    File \"D:\\Programs\\Anaconda3\\lib\\site-packages\\keras\\engine\\base_layer.py\", line 1014, in __call__\n      outputs = call_fn(inputs, *args, **kwargs)\n    File \"D:\\Programs\\Anaconda3\\lib\\site-packages\\keras\\utils\\traceback_utils.py\", line 92, in error_handler\n      return fn(*args, **kwargs)\n    File \"D:\\Programs\\Anaconda3\\lib\\site-packages\\keras\\engine\\functional.py\", line 458, in call\n      return self._run_internal_graph(\n    File \"D:\\Programs\\Anaconda3\\lib\\site-packages\\keras\\engine\\functional.py\", line 596, in _run_internal_graph\n      outputs = node.layer(*args, **kwargs)\n    File \"D:\\Programs\\Anaconda3\\lib\\site-packages\\keras\\utils\\traceback_utils.py\", line 64, in error_handler\n      return fn(*args, **kwargs)\n    File \"D:\\Programs\\Anaconda3\\lib\\site-packages\\keras\\engine\\base_layer.py\", line 1014, in __call__\n      outputs = call_fn(inputs, *args, **kwargs)\n    File \"D:\\Programs\\Anaconda3\\lib\\site-packages\\keras\\utils\\traceback_utils.py\", line 92, in error_handler\n      return fn(*args, **kwargs)\n    File \"D:\\Programs\\Anaconda3\\lib\\site-packages\\keras\\layers\\normalization\\batch_normalization.py\", line 750, in call\n      outputs = self._fused_batch_norm(inputs, training=training)\n    File \"D:\\Programs\\Anaconda3\\lib\\site-packages\\keras\\layers\\normalization\\batch_normalization.py\", line 594, in _fused_batch_norm\n      output, mean, variance = control_flow_util.smart_cond(\n    File \"D:\\Programs\\Anaconda3\\lib\\site-packages\\keras\\utils\\control_flow_util.py\", line 105, in smart_cond\n      return tf.__internal__.smart_cond.smart_cond(\n    File \"D:\\Programs\\Anaconda3\\lib\\site-packages\\keras\\layers\\normalization\\batch_normalization.py\", line 571, in _fused_batch_norm_training\n      return tf.compat.v1.nn.fused_batch_norm(\nNode: 'model_8/batch_normalization_455/FusedBatchNormV3'\nOOM when allocating tensor with shape[64,224,224,1000] and type float on /job:localhost/replica:0/task:0/device:CPU:0 by allocator cpu\n\t [[{{node model_8/batch_normalization_455/FusedBatchNormV3}}]]\nHint: If you want to see a list of allocated tensors when OOM happens, add report_tensor_allocations_upon_oom to RunOptions for current allocation info. This isn't available when running in Eager mode.\n [Op:__inference_train_function_140832]"
     ]
    }
   ],
   "source": [
    "# SqueezeNet base architecture\n",
    "x = Input(shape=[224, 224, 3]) # input image\n",
    "\n",
    "y = Conv2D(kernel_size=7, strides=2, filters=96, padding='same', activation='relu')(x) # conv1\n",
    "y = BatchNormalization()(y)\n",
    "\n",
    "y = MaxPooling2D(pool_size=3, strides=2)(y)\n",
    "\n",
    "y = fire_module(16, 128)(y) # fire2\n",
    "y = fire_module(16, 128)(y) # fire3\n",
    "y = fire_module(32, 256)(y) # fire4\n",
    "\n",
    "y = MaxPooling2D(pool_size=3, strides=2)(y)\n",
    "\n",
    "y = fire_module(32, 256)(y) # fire5\n",
    "y = fire_module(48, 384)(y) # fire6\n",
    "y = fire_module(48, 384)(y) # fire7\n",
    "y = fire_module(64, 512)(y) # fire8\n",
    "\n",
    "y = MaxPooling2D(pool_size=3, strides=2)(y)\n",
    "\n",
    "y = fire_module(64, 512)(y) # fire9\n",
    "\n",
    "y = Conv2D(kernel_size=1, strides=1, filters=1000, padding='same', activation='relu')(x) # conv10\n",
    "y = BatchNormalization()(y)\n",
    "\n",
    "y = AveragePooling2D(pool_size=13, strides=1)(y) # avgpool10\n",
    "y = Flatten()(y)\n",
    "y = Dense(2, activation='sigmoid')(y)\n",
    "\n",
    "squeezenet4 = Model(x, y)\n",
    "\n",
    "squeezenet4.compile(loss='binary_crossentropy', optimizer='adam', metrics=['binary_accuracy'])\n",
    "\n",
    "squeezenet4.fit(X_train, y_train, batch_size=64, epochs=50, validation_data=(X_val, y_val), callbacks=[es])"
   ]
  },
  {
   "cell_type": "markdown",
   "id": "4743888e",
   "metadata": {},
   "source": [
    "##### **_InceptionNetV3_**"
   ]
  },
  {
   "cell_type": "markdown",
   "id": "43653a3d",
   "metadata": {},
   "source": [
    "The original **InceptionNet** CNN was introduced through a paper by Szegedy et al. (2015). Since then, various improvements has been made on top of it, and newer iterations were released such as **InceptionNetv2** (Szegedy et al., 2016a), **InceptionNetv3** (Szegedy et al., 2016a), and **InceptionNetv4** (Szegedy et al., 2016b). In this section, we will be working with the third iteration of InceptionNet (InceptionNetV3).\n",
    "\n",
    "The original InceptionNet (Szegedy et al., 2015) utilized stacked **inception modules** in creating the general architecture of the CNN. The contents of this module is shown in the figure below. The main purpose of this module is to reduce the number of input channels by using a number of **1x1 convolution layers**.\n",
    "\n",
    "<img src=\"References/InceptionNet_InceptionModule.png\" width=\"500\"/>\n",
    "\n",
    "Szegedy et al. (2015) stacked and connected a number of these inception modules along with some other layers together, and they were able to come up with the following architecture for the original InceptionNet:\n",
    "\n",
    "<img src=\"References/InceptionNet_Architecture.png\" width=\"250\"/>\n",
    "\n",
    "InceptionNetv3 incorporated the upgrades from InceptionNetv2 while adding some other upgrades such as the use of **RMSProp Optimizer**, **Facrtorized 7x7 convolutions**, **Batch normalization in the Auxillary Classifiers**, and **Label Smoothing** (Szegedy et al., 2016a)."
   ]
  },
  {
   "cell_type": "markdown",
   "id": "dc62b00e",
   "metadata": {},
   "source": [
    "In using the InceptionNetv3 model in performing the needed task on the Tom and Jerry dataset, we will be using the InceptionNetv3 implementation of `keras`. However, we will not be training it from the ground up. Instead, we will be using **transfer learning** by adding additional layers on top of the original InceptionNetv3 model. Also, this implementation was adapted from the Towards Data Science guide by Migmar (2021).\n",
    "\n",
    "Link to guide: https://towardsdatascience.com/understanding-the-amazon-rainforest-with-multi-label-classification-vgg-19-inceptionv3-5084544fb655"
   ]
  },
  {
   "cell_type": "markdown",
   "id": "34179cad",
   "metadata": {},
   "source": [
    "Let's import all of the needed functions from `keras` to construct the InceptionNetv3 model."
   ]
  },
  {
   "cell_type": "code",
   "execution_count": 19,
   "id": "f1a66422",
   "metadata": {},
   "outputs": [],
   "source": [
    "from keras.applications.inception_v3 import InceptionV3\n",
    "from keras.layers import MaxPooling2D, Dense, Dropout, Flatten, BatchNormalization\n",
    "from keras.models import Model "
   ]
  },
  {
   "cell_type": "markdown",
   "id": "a1d27837",
   "metadata": {},
   "source": [
    "We will now be preparing the InceptionNetv3 for **transfer learning**. Modifications were made on top of the original implementation by Migmar (2021) in order to better suit the Tom and Jerry dataset we are using in this notebook."
   ]
  },
  {
   "cell_type": "code",
   "execution_count": 34,
   "id": "6aeb8608",
   "metadata": {},
   "outputs": [],
   "source": [
    "inceptionv3 = InceptionV3(weights=\"imagenet\", include_top=False, input_shape=(224, 224, 3))\n",
    "\n",
    "for layer in inceptionv3.layers:\n",
    "    layer.trainable = False\n",
    "\n",
    "model = inceptionv3.output\n",
    "model = MaxPooling2D(pool_size=(5,5), strides=(2,2))(model)\n",
    "model = Conv2D(filters=224, kernel_size=(5,5), strides=(2,2), padding=\"same\", activation=\"relu\")(model)\n",
    "model = BatchNormalization()(model)\n",
    "model = Flatten()(model)\n",
    "model = Dense(4096, activation=\"relu\")(model)\n",
    "model = Dropout(0.5)(model)\n",
    "output = Dense(2, activation=\"sigmoid\")(model)\n",
    "\n",
    "mod_inceptionv3 = Model(inputs=inceptionv3.input, outputs=output)"
   ]
  },
  {
   "cell_type": "markdown",
   "id": "cf4a5b73",
   "metadata": {},
   "source": [
    "Let's now display the summary of the modified InceptionNetv3 model."
   ]
  },
  {
   "cell_type": "code",
   "execution_count": 35,
   "id": "f8741882",
   "metadata": {},
   "outputs": [
    {
     "name": "stdout",
     "output_type": "stream",
     "text": [
      "Model: \"model_2\"\n",
      "__________________________________________________________________________________________________\n",
      " Layer (type)                   Output Shape         Param #     Connected to                     \n",
      "==================================================================================================\n",
      " input_4 (InputLayer)           [(None, 224, 224, 3  0           []                               \n",
      "                                )]                                                                \n",
      "                                                                                                  \n",
      " conv2d_285 (Conv2D)            (None, 111, 111, 32  864         ['input_4[0][0]']                \n",
      "                                )                                                                 \n",
      "                                                                                                  \n",
      " batch_normalization_285 (Batch  (None, 111, 111, 32  96         ['conv2d_285[0][0]']             \n",
      " Normalization)                 )                                                                 \n",
      "                                                                                                  \n",
      " activation_282 (Activation)    (None, 111, 111, 32  0           ['batch_normalization_285[0][0]']\n",
      "                                )                                                                 \n",
      "                                                                                                  \n",
      " conv2d_286 (Conv2D)            (None, 109, 109, 32  9216        ['activation_282[0][0]']         \n",
      "                                )                                                                 \n",
      "                                                                                                  \n",
      " batch_normalization_286 (Batch  (None, 109, 109, 32  96         ['conv2d_286[0][0]']             \n",
      " Normalization)                 )                                                                 \n",
      "                                                                                                  \n",
      " activation_283 (Activation)    (None, 109, 109, 32  0           ['batch_normalization_286[0][0]']\n",
      "                                )                                                                 \n",
      "                                                                                                  \n",
      " conv2d_287 (Conv2D)            (None, 109, 109, 64  18432       ['activation_283[0][0]']         \n",
      "                                )                                                                 \n",
      "                                                                                                  \n",
      " batch_normalization_287 (Batch  (None, 109, 109, 64  192        ['conv2d_287[0][0]']             \n",
      " Normalization)                 )                                                                 \n",
      "                                                                                                  \n",
      " activation_284 (Activation)    (None, 109, 109, 64  0           ['batch_normalization_287[0][0]']\n",
      "                                )                                                                 \n",
      "                                                                                                  \n",
      " max_pooling2d_15 (MaxPooling2D  (None, 54, 54, 64)  0           ['activation_284[0][0]']         \n",
      " )                                                                                                \n",
      "                                                                                                  \n",
      " conv2d_288 (Conv2D)            (None, 54, 54, 80)   5120        ['max_pooling2d_15[0][0]']       \n",
      "                                                                                                  \n",
      " batch_normalization_288 (Batch  (None, 54, 54, 80)  240         ['conv2d_288[0][0]']             \n",
      " Normalization)                                                                                   \n",
      "                                                                                                  \n",
      " activation_285 (Activation)    (None, 54, 54, 80)   0           ['batch_normalization_288[0][0]']\n",
      "                                                                                                  \n",
      " conv2d_289 (Conv2D)            (None, 52, 52, 192)  138240      ['activation_285[0][0]']         \n",
      "                                                                                                  \n",
      " batch_normalization_289 (Batch  (None, 52, 52, 192)  576        ['conv2d_289[0][0]']             \n",
      " Normalization)                                                                                   \n",
      "                                                                                                  \n",
      " activation_286 (Activation)    (None, 52, 52, 192)  0           ['batch_normalization_289[0][0]']\n",
      "                                                                                                  \n",
      " max_pooling2d_16 (MaxPooling2D  (None, 25, 25, 192)  0          ['activation_286[0][0]']         \n",
      " )                                                                                                \n",
      "                                                                                                  \n",
      " conv2d_293 (Conv2D)            (None, 25, 25, 64)   12288       ['max_pooling2d_16[0][0]']       \n",
      "                                                                                                  \n",
      " batch_normalization_293 (Batch  (None, 25, 25, 64)  192         ['conv2d_293[0][0]']             \n",
      " Normalization)                                                                                   \n",
      "                                                                                                  \n",
      " activation_290 (Activation)    (None, 25, 25, 64)   0           ['batch_normalization_293[0][0]']\n",
      "                                                                                                  \n",
      " conv2d_291 (Conv2D)            (None, 25, 25, 48)   9216        ['max_pooling2d_16[0][0]']       \n",
      "                                                                                                  \n",
      " conv2d_294 (Conv2D)            (None, 25, 25, 96)   55296       ['activation_290[0][0]']         \n",
      "                                                                                                  \n",
      " batch_normalization_291 (Batch  (None, 25, 25, 48)  144         ['conv2d_291[0][0]']             \n",
      " Normalization)                                                                                   \n",
      "                                                                                                  \n",
      " batch_normalization_294 (Batch  (None, 25, 25, 96)  288         ['conv2d_294[0][0]']             \n",
      " Normalization)                                                                                   \n",
      "                                                                                                  \n",
      " activation_288 (Activation)    (None, 25, 25, 48)   0           ['batch_normalization_291[0][0]']\n",
      "                                                                                                  \n",
      " activation_291 (Activation)    (None, 25, 25, 96)   0           ['batch_normalization_294[0][0]']\n",
      "                                                                                                  \n",
      " average_pooling2d_27 (AverageP  (None, 25, 25, 192)  0          ['max_pooling2d_16[0][0]']       \n",
      " ooling2D)                                                                                        \n",
      "                                                                                                  \n",
      " conv2d_290 (Conv2D)            (None, 25, 25, 64)   12288       ['max_pooling2d_16[0][0]']       \n",
      "                                                                                                  \n",
      " conv2d_292 (Conv2D)            (None, 25, 25, 64)   76800       ['activation_288[0][0]']         \n",
      "                                                                                                  \n",
      " conv2d_295 (Conv2D)            (None, 25, 25, 96)   82944       ['activation_291[0][0]']         \n",
      "                                                                                                  \n"
     ]
    },
    {
     "name": "stdout",
     "output_type": "stream",
     "text": [
      " conv2d_296 (Conv2D)            (None, 25, 25, 32)   6144        ['average_pooling2d_27[0][0]']   \n",
      "                                                                                                  \n",
      " batch_normalization_290 (Batch  (None, 25, 25, 64)  192         ['conv2d_290[0][0]']             \n",
      " Normalization)                                                                                   \n",
      "                                                                                                  \n",
      " batch_normalization_292 (Batch  (None, 25, 25, 64)  192         ['conv2d_292[0][0]']             \n",
      " Normalization)                                                                                   \n",
      "                                                                                                  \n",
      " batch_normalization_295 (Batch  (None, 25, 25, 96)  288         ['conv2d_295[0][0]']             \n",
      " Normalization)                                                                                   \n",
      "                                                                                                  \n",
      " batch_normalization_296 (Batch  (None, 25, 25, 32)  96          ['conv2d_296[0][0]']             \n",
      " Normalization)                                                                                   \n",
      "                                                                                                  \n",
      " activation_287 (Activation)    (None, 25, 25, 64)   0           ['batch_normalization_290[0][0]']\n",
      "                                                                                                  \n",
      " activation_289 (Activation)    (None, 25, 25, 64)   0           ['batch_normalization_292[0][0]']\n",
      "                                                                                                  \n",
      " activation_292 (Activation)    (None, 25, 25, 96)   0           ['batch_normalization_295[0][0]']\n",
      "                                                                                                  \n",
      " activation_293 (Activation)    (None, 25, 25, 32)   0           ['batch_normalization_296[0][0]']\n",
      "                                                                                                  \n",
      " mixed0 (Concatenate)           (None, 25, 25, 256)  0           ['activation_287[0][0]',         \n",
      "                                                                  'activation_289[0][0]',         \n",
      "                                                                  'activation_292[0][0]',         \n",
      "                                                                  'activation_293[0][0]']         \n",
      "                                                                                                  \n",
      " conv2d_300 (Conv2D)            (None, 25, 25, 64)   16384       ['mixed0[0][0]']                 \n",
      "                                                                                                  \n",
      " batch_normalization_300 (Batch  (None, 25, 25, 64)  192         ['conv2d_300[0][0]']             \n",
      " Normalization)                                                                                   \n",
      "                                                                                                  \n",
      " activation_297 (Activation)    (None, 25, 25, 64)   0           ['batch_normalization_300[0][0]']\n",
      "                                                                                                  \n",
      " conv2d_298 (Conv2D)            (None, 25, 25, 48)   12288       ['mixed0[0][0]']                 \n",
      "                                                                                                  \n",
      " conv2d_301 (Conv2D)            (None, 25, 25, 96)   55296       ['activation_297[0][0]']         \n",
      "                                                                                                  \n",
      " batch_normalization_298 (Batch  (None, 25, 25, 48)  144         ['conv2d_298[0][0]']             \n",
      " Normalization)                                                                                   \n",
      "                                                                                                  \n",
      " batch_normalization_301 (Batch  (None, 25, 25, 96)  288         ['conv2d_301[0][0]']             \n",
      " Normalization)                                                                                   \n",
      "                                                                                                  \n",
      " activation_295 (Activation)    (None, 25, 25, 48)   0           ['batch_normalization_298[0][0]']\n",
      "                                                                                                  \n",
      " activation_298 (Activation)    (None, 25, 25, 96)   0           ['batch_normalization_301[0][0]']\n",
      "                                                                                                  \n",
      " average_pooling2d_28 (AverageP  (None, 25, 25, 256)  0          ['mixed0[0][0]']                 \n",
      " ooling2D)                                                                                        \n",
      "                                                                                                  \n",
      " conv2d_297 (Conv2D)            (None, 25, 25, 64)   16384       ['mixed0[0][0]']                 \n",
      "                                                                                                  \n",
      " conv2d_299 (Conv2D)            (None, 25, 25, 64)   76800       ['activation_295[0][0]']         \n",
      "                                                                                                  \n",
      " conv2d_302 (Conv2D)            (None, 25, 25, 96)   82944       ['activation_298[0][0]']         \n",
      "                                                                                                  \n",
      " conv2d_303 (Conv2D)            (None, 25, 25, 64)   16384       ['average_pooling2d_28[0][0]']   \n",
      "                                                                                                  \n",
      " batch_normalization_297 (Batch  (None, 25, 25, 64)  192         ['conv2d_297[0][0]']             \n",
      " Normalization)                                                                                   \n",
      "                                                                                                  \n",
      " batch_normalization_299 (Batch  (None, 25, 25, 64)  192         ['conv2d_299[0][0]']             \n",
      " Normalization)                                                                                   \n",
      "                                                                                                  \n",
      " batch_normalization_302 (Batch  (None, 25, 25, 96)  288         ['conv2d_302[0][0]']             \n",
      " Normalization)                                                                                   \n",
      "                                                                                                  \n",
      " batch_normalization_303 (Batch  (None, 25, 25, 64)  192         ['conv2d_303[0][0]']             \n",
      " Normalization)                                                                                   \n",
      "                                                                                                  \n",
      " activation_294 (Activation)    (None, 25, 25, 64)   0           ['batch_normalization_297[0][0]']\n",
      "                                                                                                  \n",
      " activation_296 (Activation)    (None, 25, 25, 64)   0           ['batch_normalization_299[0][0]']\n",
      "                                                                                                  \n",
      " activation_299 (Activation)    (None, 25, 25, 96)   0           ['batch_normalization_302[0][0]']\n",
      "                                                                                                  \n",
      " activation_300 (Activation)    (None, 25, 25, 64)   0           ['batch_normalization_303[0][0]']\n",
      "                                                                                                  \n",
      " mixed1 (Concatenate)           (None, 25, 25, 288)  0           ['activation_294[0][0]',         \n",
      "                                                                  'activation_296[0][0]',         \n",
      "                                                                  'activation_299[0][0]',         \n",
      "                                                                  'activation_300[0][0]']         \n"
     ]
    },
    {
     "name": "stdout",
     "output_type": "stream",
     "text": [
      "                                                                                                  \n",
      " conv2d_307 (Conv2D)            (None, 25, 25, 64)   18432       ['mixed1[0][0]']                 \n",
      "                                                                                                  \n",
      " batch_normalization_307 (Batch  (None, 25, 25, 64)  192         ['conv2d_307[0][0]']             \n",
      " Normalization)                                                                                   \n",
      "                                                                                                  \n",
      " activation_304 (Activation)    (None, 25, 25, 64)   0           ['batch_normalization_307[0][0]']\n",
      "                                                                                                  \n",
      " conv2d_305 (Conv2D)            (None, 25, 25, 48)   13824       ['mixed1[0][0]']                 \n",
      "                                                                                                  \n",
      " conv2d_308 (Conv2D)            (None, 25, 25, 96)   55296       ['activation_304[0][0]']         \n",
      "                                                                                                  \n",
      " batch_normalization_305 (Batch  (None, 25, 25, 48)  144         ['conv2d_305[0][0]']             \n",
      " Normalization)                                                                                   \n",
      "                                                                                                  \n",
      " batch_normalization_308 (Batch  (None, 25, 25, 96)  288         ['conv2d_308[0][0]']             \n",
      " Normalization)                                                                                   \n",
      "                                                                                                  \n",
      " activation_302 (Activation)    (None, 25, 25, 48)   0           ['batch_normalization_305[0][0]']\n",
      "                                                                                                  \n",
      " activation_305 (Activation)    (None, 25, 25, 96)   0           ['batch_normalization_308[0][0]']\n",
      "                                                                                                  \n",
      " average_pooling2d_29 (AverageP  (None, 25, 25, 288)  0          ['mixed1[0][0]']                 \n",
      " ooling2D)                                                                                        \n",
      "                                                                                                  \n",
      " conv2d_304 (Conv2D)            (None, 25, 25, 64)   18432       ['mixed1[0][0]']                 \n",
      "                                                                                                  \n",
      " conv2d_306 (Conv2D)            (None, 25, 25, 64)   76800       ['activation_302[0][0]']         \n",
      "                                                                                                  \n",
      " conv2d_309 (Conv2D)            (None, 25, 25, 96)   82944       ['activation_305[0][0]']         \n",
      "                                                                                                  \n",
      " conv2d_310 (Conv2D)            (None, 25, 25, 64)   18432       ['average_pooling2d_29[0][0]']   \n",
      "                                                                                                  \n",
      " batch_normalization_304 (Batch  (None, 25, 25, 64)  192         ['conv2d_304[0][0]']             \n",
      " Normalization)                                                                                   \n",
      "                                                                                                  \n",
      " batch_normalization_306 (Batch  (None, 25, 25, 64)  192         ['conv2d_306[0][0]']             \n",
      " Normalization)                                                                                   \n",
      "                                                                                                  \n",
      " batch_normalization_309 (Batch  (None, 25, 25, 96)  288         ['conv2d_309[0][0]']             \n",
      " Normalization)                                                                                   \n",
      "                                                                                                  \n",
      " batch_normalization_310 (Batch  (None, 25, 25, 64)  192         ['conv2d_310[0][0]']             \n",
      " Normalization)                                                                                   \n",
      "                                                                                                  \n",
      " activation_301 (Activation)    (None, 25, 25, 64)   0           ['batch_normalization_304[0][0]']\n",
      "                                                                                                  \n",
      " activation_303 (Activation)    (None, 25, 25, 64)   0           ['batch_normalization_306[0][0]']\n",
      "                                                                                                  \n",
      " activation_306 (Activation)    (None, 25, 25, 96)   0           ['batch_normalization_309[0][0]']\n",
      "                                                                                                  \n",
      " activation_307 (Activation)    (None, 25, 25, 64)   0           ['batch_normalization_310[0][0]']\n",
      "                                                                                                  \n",
      " mixed2 (Concatenate)           (None, 25, 25, 288)  0           ['activation_301[0][0]',         \n",
      "                                                                  'activation_303[0][0]',         \n",
      "                                                                  'activation_306[0][0]',         \n",
      "                                                                  'activation_307[0][0]']         \n",
      "                                                                                                  \n",
      " conv2d_312 (Conv2D)            (None, 25, 25, 64)   18432       ['mixed2[0][0]']                 \n",
      "                                                                                                  \n",
      " batch_normalization_312 (Batch  (None, 25, 25, 64)  192         ['conv2d_312[0][0]']             \n",
      " Normalization)                                                                                   \n",
      "                                                                                                  \n",
      " activation_309 (Activation)    (None, 25, 25, 64)   0           ['batch_normalization_312[0][0]']\n",
      "                                                                                                  \n",
      " conv2d_313 (Conv2D)            (None, 25, 25, 96)   55296       ['activation_309[0][0]']         \n",
      "                                                                                                  \n",
      " batch_normalization_313 (Batch  (None, 25, 25, 96)  288         ['conv2d_313[0][0]']             \n",
      " Normalization)                                                                                   \n",
      "                                                                                                  \n",
      " activation_310 (Activation)    (None, 25, 25, 96)   0           ['batch_normalization_313[0][0]']\n",
      "                                                                                                  \n",
      " conv2d_311 (Conv2D)            (None, 12, 12, 384)  995328      ['mixed2[0][0]']                 \n",
      "                                                                                                  \n",
      " conv2d_314 (Conv2D)            (None, 12, 12, 96)   82944       ['activation_310[0][0]']         \n",
      "                                                                                                  \n",
      " batch_normalization_311 (Batch  (None, 12, 12, 384)  1152       ['conv2d_311[0][0]']             \n",
      " Normalization)                                                                                   \n",
      "                                                                                                  \n",
      " batch_normalization_314 (Batch  (None, 12, 12, 96)  288         ['conv2d_314[0][0]']             \n",
      " Normalization)                                                                                   \n",
      "                                                                                                  \n",
      " activation_308 (Activation)    (None, 12, 12, 384)  0           ['batch_normalization_311[0][0]']\n"
     ]
    },
    {
     "name": "stdout",
     "output_type": "stream",
     "text": [
      "                                                                                                  \n",
      " activation_311 (Activation)    (None, 12, 12, 96)   0           ['batch_normalization_314[0][0]']\n",
      "                                                                                                  \n",
      " max_pooling2d_17 (MaxPooling2D  (None, 12, 12, 288)  0          ['mixed2[0][0]']                 \n",
      " )                                                                                                \n",
      "                                                                                                  \n",
      " mixed3 (Concatenate)           (None, 12, 12, 768)  0           ['activation_308[0][0]',         \n",
      "                                                                  'activation_311[0][0]',         \n",
      "                                                                  'max_pooling2d_17[0][0]']       \n",
      "                                                                                                  \n",
      " conv2d_319 (Conv2D)            (None, 12, 12, 128)  98304       ['mixed3[0][0]']                 \n",
      "                                                                                                  \n",
      " batch_normalization_319 (Batch  (None, 12, 12, 128)  384        ['conv2d_319[0][0]']             \n",
      " Normalization)                                                                                   \n",
      "                                                                                                  \n",
      " activation_316 (Activation)    (None, 12, 12, 128)  0           ['batch_normalization_319[0][0]']\n",
      "                                                                                                  \n",
      " conv2d_320 (Conv2D)            (None, 12, 12, 128)  114688      ['activation_316[0][0]']         \n",
      "                                                                                                  \n",
      " batch_normalization_320 (Batch  (None, 12, 12, 128)  384        ['conv2d_320[0][0]']             \n",
      " Normalization)                                                                                   \n",
      "                                                                                                  \n",
      " activation_317 (Activation)    (None, 12, 12, 128)  0           ['batch_normalization_320[0][0]']\n",
      "                                                                                                  \n",
      " conv2d_316 (Conv2D)            (None, 12, 12, 128)  98304       ['mixed3[0][0]']                 \n",
      "                                                                                                  \n",
      " conv2d_321 (Conv2D)            (None, 12, 12, 128)  114688      ['activation_317[0][0]']         \n",
      "                                                                                                  \n",
      " batch_normalization_316 (Batch  (None, 12, 12, 128)  384        ['conv2d_316[0][0]']             \n",
      " Normalization)                                                                                   \n",
      "                                                                                                  \n",
      " batch_normalization_321 (Batch  (None, 12, 12, 128)  384        ['conv2d_321[0][0]']             \n",
      " Normalization)                                                                                   \n",
      "                                                                                                  \n",
      " activation_313 (Activation)    (None, 12, 12, 128)  0           ['batch_normalization_316[0][0]']\n",
      "                                                                                                  \n",
      " activation_318 (Activation)    (None, 12, 12, 128)  0           ['batch_normalization_321[0][0]']\n",
      "                                                                                                  \n",
      " conv2d_317 (Conv2D)            (None, 12, 12, 128)  114688      ['activation_313[0][0]']         \n",
      "                                                                                                  \n",
      " conv2d_322 (Conv2D)            (None, 12, 12, 128)  114688      ['activation_318[0][0]']         \n",
      "                                                                                                  \n",
      " batch_normalization_317 (Batch  (None, 12, 12, 128)  384        ['conv2d_317[0][0]']             \n",
      " Normalization)                                                                                   \n",
      "                                                                                                  \n",
      " batch_normalization_322 (Batch  (None, 12, 12, 128)  384        ['conv2d_322[0][0]']             \n",
      " Normalization)                                                                                   \n",
      "                                                                                                  \n",
      " activation_314 (Activation)    (None, 12, 12, 128)  0           ['batch_normalization_317[0][0]']\n",
      "                                                                                                  \n",
      " activation_319 (Activation)    (None, 12, 12, 128)  0           ['batch_normalization_322[0][0]']\n",
      "                                                                                                  \n",
      " average_pooling2d_30 (AverageP  (None, 12, 12, 768)  0          ['mixed3[0][0]']                 \n",
      " ooling2D)                                                                                        \n",
      "                                                                                                  \n",
      " conv2d_315 (Conv2D)            (None, 12, 12, 192)  147456      ['mixed3[0][0]']                 \n",
      "                                                                                                  \n",
      " conv2d_318 (Conv2D)            (None, 12, 12, 192)  172032      ['activation_314[0][0]']         \n",
      "                                                                                                  \n",
      " conv2d_323 (Conv2D)            (None, 12, 12, 192)  172032      ['activation_319[0][0]']         \n",
      "                                                                                                  \n",
      " conv2d_324 (Conv2D)            (None, 12, 12, 192)  147456      ['average_pooling2d_30[0][0]']   \n",
      "                                                                                                  \n",
      " batch_normalization_315 (Batch  (None, 12, 12, 192)  576        ['conv2d_315[0][0]']             \n",
      " Normalization)                                                                                   \n",
      "                                                                                                  \n",
      " batch_normalization_318 (Batch  (None, 12, 12, 192)  576        ['conv2d_318[0][0]']             \n",
      " Normalization)                                                                                   \n",
      "                                                                                                  \n",
      " batch_normalization_323 (Batch  (None, 12, 12, 192)  576        ['conv2d_323[0][0]']             \n",
      " Normalization)                                                                                   \n",
      "                                                                                                  \n",
      " batch_normalization_324 (Batch  (None, 12, 12, 192)  576        ['conv2d_324[0][0]']             \n",
      " Normalization)                                                                                   \n",
      "                                                                                                  \n",
      " activation_312 (Activation)    (None, 12, 12, 192)  0           ['batch_normalization_315[0][0]']\n",
      "                                                                                                  \n",
      " activation_315 (Activation)    (None, 12, 12, 192)  0           ['batch_normalization_318[0][0]']\n",
      "                                                                                                  \n",
      " activation_320 (Activation)    (None, 12, 12, 192)  0           ['batch_normalization_323[0][0]']\n",
      "                                                                                                  \n",
      " activation_321 (Activation)    (None, 12, 12, 192)  0           ['batch_normalization_324[0][0]']\n",
      "                                                                                                  \n"
     ]
    },
    {
     "name": "stdout",
     "output_type": "stream",
     "text": [
      " mixed4 (Concatenate)           (None, 12, 12, 768)  0           ['activation_312[0][0]',         \n",
      "                                                                  'activation_315[0][0]',         \n",
      "                                                                  'activation_320[0][0]',         \n",
      "                                                                  'activation_321[0][0]']         \n",
      "                                                                                                  \n",
      " conv2d_329 (Conv2D)            (None, 12, 12, 160)  122880      ['mixed4[0][0]']                 \n",
      "                                                                                                  \n",
      " batch_normalization_329 (Batch  (None, 12, 12, 160)  480        ['conv2d_329[0][0]']             \n",
      " Normalization)                                                                                   \n",
      "                                                                                                  \n",
      " activation_326 (Activation)    (None, 12, 12, 160)  0           ['batch_normalization_329[0][0]']\n",
      "                                                                                                  \n",
      " conv2d_330 (Conv2D)            (None, 12, 12, 160)  179200      ['activation_326[0][0]']         \n",
      "                                                                                                  \n",
      " batch_normalization_330 (Batch  (None, 12, 12, 160)  480        ['conv2d_330[0][0]']             \n",
      " Normalization)                                                                                   \n",
      "                                                                                                  \n",
      " activation_327 (Activation)    (None, 12, 12, 160)  0           ['batch_normalization_330[0][0]']\n",
      "                                                                                                  \n",
      " conv2d_326 (Conv2D)            (None, 12, 12, 160)  122880      ['mixed4[0][0]']                 \n",
      "                                                                                                  \n",
      " conv2d_331 (Conv2D)            (None, 12, 12, 160)  179200      ['activation_327[0][0]']         \n",
      "                                                                                                  \n",
      " batch_normalization_326 (Batch  (None, 12, 12, 160)  480        ['conv2d_326[0][0]']             \n",
      " Normalization)                                                                                   \n",
      "                                                                                                  \n",
      " batch_normalization_331 (Batch  (None, 12, 12, 160)  480        ['conv2d_331[0][0]']             \n",
      " Normalization)                                                                                   \n",
      "                                                                                                  \n",
      " activation_323 (Activation)    (None, 12, 12, 160)  0           ['batch_normalization_326[0][0]']\n",
      "                                                                                                  \n",
      " activation_328 (Activation)    (None, 12, 12, 160)  0           ['batch_normalization_331[0][0]']\n",
      "                                                                                                  \n",
      " conv2d_327 (Conv2D)            (None, 12, 12, 160)  179200      ['activation_323[0][0]']         \n",
      "                                                                                                  \n",
      " conv2d_332 (Conv2D)            (None, 12, 12, 160)  179200      ['activation_328[0][0]']         \n",
      "                                                                                                  \n",
      " batch_normalization_327 (Batch  (None, 12, 12, 160)  480        ['conv2d_327[0][0]']             \n",
      " Normalization)                                                                                   \n",
      "                                                                                                  \n",
      " batch_normalization_332 (Batch  (None, 12, 12, 160)  480        ['conv2d_332[0][0]']             \n",
      " Normalization)                                                                                   \n",
      "                                                                                                  \n",
      " activation_324 (Activation)    (None, 12, 12, 160)  0           ['batch_normalization_327[0][0]']\n",
      "                                                                                                  \n",
      " activation_329 (Activation)    (None, 12, 12, 160)  0           ['batch_normalization_332[0][0]']\n",
      "                                                                                                  \n",
      " average_pooling2d_31 (AverageP  (None, 12, 12, 768)  0          ['mixed4[0][0]']                 \n",
      " ooling2D)                                                                                        \n",
      "                                                                                                  \n",
      " conv2d_325 (Conv2D)            (None, 12, 12, 192)  147456      ['mixed4[0][0]']                 \n",
      "                                                                                                  \n",
      " conv2d_328 (Conv2D)            (None, 12, 12, 192)  215040      ['activation_324[0][0]']         \n",
      "                                                                                                  \n",
      " conv2d_333 (Conv2D)            (None, 12, 12, 192)  215040      ['activation_329[0][0]']         \n",
      "                                                                                                  \n",
      " conv2d_334 (Conv2D)            (None, 12, 12, 192)  147456      ['average_pooling2d_31[0][0]']   \n",
      "                                                                                                  \n",
      " batch_normalization_325 (Batch  (None, 12, 12, 192)  576        ['conv2d_325[0][0]']             \n",
      " Normalization)                                                                                   \n",
      "                                                                                                  \n",
      " batch_normalization_328 (Batch  (None, 12, 12, 192)  576        ['conv2d_328[0][0]']             \n",
      " Normalization)                                                                                   \n",
      "                                                                                                  \n",
      " batch_normalization_333 (Batch  (None, 12, 12, 192)  576        ['conv2d_333[0][0]']             \n",
      " Normalization)                                                                                   \n",
      "                                                                                                  \n",
      " batch_normalization_334 (Batch  (None, 12, 12, 192)  576        ['conv2d_334[0][0]']             \n",
      " Normalization)                                                                                   \n",
      "                                                                                                  \n",
      " activation_322 (Activation)    (None, 12, 12, 192)  0           ['batch_normalization_325[0][0]']\n",
      "                                                                                                  \n",
      " activation_325 (Activation)    (None, 12, 12, 192)  0           ['batch_normalization_328[0][0]']\n",
      "                                                                                                  \n",
      " activation_330 (Activation)    (None, 12, 12, 192)  0           ['batch_normalization_333[0][0]']\n",
      "                                                                                                  \n",
      " activation_331 (Activation)    (None, 12, 12, 192)  0           ['batch_normalization_334[0][0]']\n",
      "                                                                                                  \n",
      " mixed5 (Concatenate)           (None, 12, 12, 768)  0           ['activation_322[0][0]',         \n",
      "                                                                  'activation_325[0][0]',         \n",
      "                                                                  'activation_330[0][0]',         \n",
      "                                                                  'activation_331[0][0]']         \n",
      "                                                                                                  \n"
     ]
    },
    {
     "name": "stdout",
     "output_type": "stream",
     "text": [
      " conv2d_339 (Conv2D)            (None, 12, 12, 160)  122880      ['mixed5[0][0]']                 \n",
      "                                                                                                  \n",
      " batch_normalization_339 (Batch  (None, 12, 12, 160)  480        ['conv2d_339[0][0]']             \n",
      " Normalization)                                                                                   \n",
      "                                                                                                  \n",
      " activation_336 (Activation)    (None, 12, 12, 160)  0           ['batch_normalization_339[0][0]']\n",
      "                                                                                                  \n",
      " conv2d_340 (Conv2D)            (None, 12, 12, 160)  179200      ['activation_336[0][0]']         \n",
      "                                                                                                  \n",
      " batch_normalization_340 (Batch  (None, 12, 12, 160)  480        ['conv2d_340[0][0]']             \n",
      " Normalization)                                                                                   \n",
      "                                                                                                  \n",
      " activation_337 (Activation)    (None, 12, 12, 160)  0           ['batch_normalization_340[0][0]']\n",
      "                                                                                                  \n",
      " conv2d_336 (Conv2D)            (None, 12, 12, 160)  122880      ['mixed5[0][0]']                 \n",
      "                                                                                                  \n",
      " conv2d_341 (Conv2D)            (None, 12, 12, 160)  179200      ['activation_337[0][0]']         \n",
      "                                                                                                  \n",
      " batch_normalization_336 (Batch  (None, 12, 12, 160)  480        ['conv2d_336[0][0]']             \n",
      " Normalization)                                                                                   \n",
      "                                                                                                  \n",
      " batch_normalization_341 (Batch  (None, 12, 12, 160)  480        ['conv2d_341[0][0]']             \n",
      " Normalization)                                                                                   \n",
      "                                                                                                  \n",
      " activation_333 (Activation)    (None, 12, 12, 160)  0           ['batch_normalization_336[0][0]']\n",
      "                                                                                                  \n",
      " activation_338 (Activation)    (None, 12, 12, 160)  0           ['batch_normalization_341[0][0]']\n",
      "                                                                                                  \n",
      " conv2d_337 (Conv2D)            (None, 12, 12, 160)  179200      ['activation_333[0][0]']         \n",
      "                                                                                                  \n",
      " conv2d_342 (Conv2D)            (None, 12, 12, 160)  179200      ['activation_338[0][0]']         \n",
      "                                                                                                  \n",
      " batch_normalization_337 (Batch  (None, 12, 12, 160)  480        ['conv2d_337[0][0]']             \n",
      " Normalization)                                                                                   \n",
      "                                                                                                  \n",
      " batch_normalization_342 (Batch  (None, 12, 12, 160)  480        ['conv2d_342[0][0]']             \n",
      " Normalization)                                                                                   \n",
      "                                                                                                  \n",
      " activation_334 (Activation)    (None, 12, 12, 160)  0           ['batch_normalization_337[0][0]']\n",
      "                                                                                                  \n",
      " activation_339 (Activation)    (None, 12, 12, 160)  0           ['batch_normalization_342[0][0]']\n",
      "                                                                                                  \n",
      " average_pooling2d_32 (AverageP  (None, 12, 12, 768)  0          ['mixed5[0][0]']                 \n",
      " ooling2D)                                                                                        \n",
      "                                                                                                  \n",
      " conv2d_335 (Conv2D)            (None, 12, 12, 192)  147456      ['mixed5[0][0]']                 \n",
      "                                                                                                  \n",
      " conv2d_338 (Conv2D)            (None, 12, 12, 192)  215040      ['activation_334[0][0]']         \n",
      "                                                                                                  \n",
      " conv2d_343 (Conv2D)            (None, 12, 12, 192)  215040      ['activation_339[0][0]']         \n",
      "                                                                                                  \n",
      " conv2d_344 (Conv2D)            (None, 12, 12, 192)  147456      ['average_pooling2d_32[0][0]']   \n",
      "                                                                                                  \n",
      " batch_normalization_335 (Batch  (None, 12, 12, 192)  576        ['conv2d_335[0][0]']             \n",
      " Normalization)                                                                                   \n",
      "                                                                                                  \n",
      " batch_normalization_338 (Batch  (None, 12, 12, 192)  576        ['conv2d_338[0][0]']             \n",
      " Normalization)                                                                                   \n",
      "                                                                                                  \n",
      " batch_normalization_343 (Batch  (None, 12, 12, 192)  576        ['conv2d_343[0][0]']             \n",
      " Normalization)                                                                                   \n",
      "                                                                                                  \n",
      " batch_normalization_344 (Batch  (None, 12, 12, 192)  576        ['conv2d_344[0][0]']             \n",
      " Normalization)                                                                                   \n",
      "                                                                                                  \n",
      " activation_332 (Activation)    (None, 12, 12, 192)  0           ['batch_normalization_335[0][0]']\n",
      "                                                                                                  \n",
      " activation_335 (Activation)    (None, 12, 12, 192)  0           ['batch_normalization_338[0][0]']\n",
      "                                                                                                  \n",
      " activation_340 (Activation)    (None, 12, 12, 192)  0           ['batch_normalization_343[0][0]']\n",
      "                                                                                                  \n",
      " activation_341 (Activation)    (None, 12, 12, 192)  0           ['batch_normalization_344[0][0]']\n",
      "                                                                                                  \n",
      " mixed6 (Concatenate)           (None, 12, 12, 768)  0           ['activation_332[0][0]',         \n",
      "                                                                  'activation_335[0][0]',         \n",
      "                                                                  'activation_340[0][0]',         \n",
      "                                                                  'activation_341[0][0]']         \n",
      "                                                                                                  \n",
      " conv2d_349 (Conv2D)            (None, 12, 12, 192)  147456      ['mixed6[0][0]']                 \n",
      "                                                                                                  \n",
      " batch_normalization_349 (Batch  (None, 12, 12, 192)  576        ['conv2d_349[0][0]']             \n",
      " Normalization)                                                                                   \n",
      "                                                                                                  \n"
     ]
    },
    {
     "name": "stdout",
     "output_type": "stream",
     "text": [
      " activation_346 (Activation)    (None, 12, 12, 192)  0           ['batch_normalization_349[0][0]']\n",
      "                                                                                                  \n",
      " conv2d_350 (Conv2D)            (None, 12, 12, 192)  258048      ['activation_346[0][0]']         \n",
      "                                                                                                  \n",
      " batch_normalization_350 (Batch  (None, 12, 12, 192)  576        ['conv2d_350[0][0]']             \n",
      " Normalization)                                                                                   \n",
      "                                                                                                  \n",
      " activation_347 (Activation)    (None, 12, 12, 192)  0           ['batch_normalization_350[0][0]']\n",
      "                                                                                                  \n",
      " conv2d_346 (Conv2D)            (None, 12, 12, 192)  147456      ['mixed6[0][0]']                 \n",
      "                                                                                                  \n",
      " conv2d_351 (Conv2D)            (None, 12, 12, 192)  258048      ['activation_347[0][0]']         \n",
      "                                                                                                  \n",
      " batch_normalization_346 (Batch  (None, 12, 12, 192)  576        ['conv2d_346[0][0]']             \n",
      " Normalization)                                                                                   \n",
      "                                                                                                  \n",
      " batch_normalization_351 (Batch  (None, 12, 12, 192)  576        ['conv2d_351[0][0]']             \n",
      " Normalization)                                                                                   \n",
      "                                                                                                  \n",
      " activation_343 (Activation)    (None, 12, 12, 192)  0           ['batch_normalization_346[0][0]']\n",
      "                                                                                                  \n",
      " activation_348 (Activation)    (None, 12, 12, 192)  0           ['batch_normalization_351[0][0]']\n",
      "                                                                                                  \n",
      " conv2d_347 (Conv2D)            (None, 12, 12, 192)  258048      ['activation_343[0][0]']         \n",
      "                                                                                                  \n",
      " conv2d_352 (Conv2D)            (None, 12, 12, 192)  258048      ['activation_348[0][0]']         \n",
      "                                                                                                  \n",
      " batch_normalization_347 (Batch  (None, 12, 12, 192)  576        ['conv2d_347[0][0]']             \n",
      " Normalization)                                                                                   \n",
      "                                                                                                  \n",
      " batch_normalization_352 (Batch  (None, 12, 12, 192)  576        ['conv2d_352[0][0]']             \n",
      " Normalization)                                                                                   \n",
      "                                                                                                  \n",
      " activation_344 (Activation)    (None, 12, 12, 192)  0           ['batch_normalization_347[0][0]']\n",
      "                                                                                                  \n",
      " activation_349 (Activation)    (None, 12, 12, 192)  0           ['batch_normalization_352[0][0]']\n",
      "                                                                                                  \n",
      " average_pooling2d_33 (AverageP  (None, 12, 12, 768)  0          ['mixed6[0][0]']                 \n",
      " ooling2D)                                                                                        \n",
      "                                                                                                  \n",
      " conv2d_345 (Conv2D)            (None, 12, 12, 192)  147456      ['mixed6[0][0]']                 \n",
      "                                                                                                  \n",
      " conv2d_348 (Conv2D)            (None, 12, 12, 192)  258048      ['activation_344[0][0]']         \n",
      "                                                                                                  \n",
      " conv2d_353 (Conv2D)            (None, 12, 12, 192)  258048      ['activation_349[0][0]']         \n",
      "                                                                                                  \n",
      " conv2d_354 (Conv2D)            (None, 12, 12, 192)  147456      ['average_pooling2d_33[0][0]']   \n",
      "                                                                                                  \n",
      " batch_normalization_345 (Batch  (None, 12, 12, 192)  576        ['conv2d_345[0][0]']             \n",
      " Normalization)                                                                                   \n",
      "                                                                                                  \n",
      " batch_normalization_348 (Batch  (None, 12, 12, 192)  576        ['conv2d_348[0][0]']             \n",
      " Normalization)                                                                                   \n",
      "                                                                                                  \n",
      " batch_normalization_353 (Batch  (None, 12, 12, 192)  576        ['conv2d_353[0][0]']             \n",
      " Normalization)                                                                                   \n",
      "                                                                                                  \n",
      " batch_normalization_354 (Batch  (None, 12, 12, 192)  576        ['conv2d_354[0][0]']             \n",
      " Normalization)                                                                                   \n",
      "                                                                                                  \n",
      " activation_342 (Activation)    (None, 12, 12, 192)  0           ['batch_normalization_345[0][0]']\n",
      "                                                                                                  \n",
      " activation_345 (Activation)    (None, 12, 12, 192)  0           ['batch_normalization_348[0][0]']\n",
      "                                                                                                  \n",
      " activation_350 (Activation)    (None, 12, 12, 192)  0           ['batch_normalization_353[0][0]']\n",
      "                                                                                                  \n",
      " activation_351 (Activation)    (None, 12, 12, 192)  0           ['batch_normalization_354[0][0]']\n",
      "                                                                                                  \n",
      " mixed7 (Concatenate)           (None, 12, 12, 768)  0           ['activation_342[0][0]',         \n",
      "                                                                  'activation_345[0][0]',         \n",
      "                                                                  'activation_350[0][0]',         \n",
      "                                                                  'activation_351[0][0]']         \n",
      "                                                                                                  \n",
      " conv2d_357 (Conv2D)            (None, 12, 12, 192)  147456      ['mixed7[0][0]']                 \n",
      "                                                                                                  \n",
      " batch_normalization_357 (Batch  (None, 12, 12, 192)  576        ['conv2d_357[0][0]']             \n",
      " Normalization)                                                                                   \n",
      "                                                                                                  \n",
      " activation_354 (Activation)    (None, 12, 12, 192)  0           ['batch_normalization_357[0][0]']\n",
      "                                                                                                  \n",
      " conv2d_358 (Conv2D)            (None, 12, 12, 192)  258048      ['activation_354[0][0]']         \n",
      "                                                                                                  \n",
      " batch_normalization_358 (Batch  (None, 12, 12, 192)  576        ['conv2d_358[0][0]']             \n"
     ]
    },
    {
     "name": "stdout",
     "output_type": "stream",
     "text": [
      " Normalization)                                                                                   \n",
      "                                                                                                  \n",
      " activation_355 (Activation)    (None, 12, 12, 192)  0           ['batch_normalization_358[0][0]']\n",
      "                                                                                                  \n",
      " conv2d_355 (Conv2D)            (None, 12, 12, 192)  147456      ['mixed7[0][0]']                 \n",
      "                                                                                                  \n",
      " conv2d_359 (Conv2D)            (None, 12, 12, 192)  258048      ['activation_355[0][0]']         \n",
      "                                                                                                  \n",
      " batch_normalization_355 (Batch  (None, 12, 12, 192)  576        ['conv2d_355[0][0]']             \n",
      " Normalization)                                                                                   \n",
      "                                                                                                  \n",
      " batch_normalization_359 (Batch  (None, 12, 12, 192)  576        ['conv2d_359[0][0]']             \n",
      " Normalization)                                                                                   \n",
      "                                                                                                  \n",
      " activation_352 (Activation)    (None, 12, 12, 192)  0           ['batch_normalization_355[0][0]']\n",
      "                                                                                                  \n",
      " activation_356 (Activation)    (None, 12, 12, 192)  0           ['batch_normalization_359[0][0]']\n",
      "                                                                                                  \n",
      " conv2d_356 (Conv2D)            (None, 5, 5, 320)    552960      ['activation_352[0][0]']         \n",
      "                                                                                                  \n",
      " conv2d_360 (Conv2D)            (None, 5, 5, 192)    331776      ['activation_356[0][0]']         \n",
      "                                                                                                  \n",
      " batch_normalization_356 (Batch  (None, 5, 5, 320)   960         ['conv2d_356[0][0]']             \n",
      " Normalization)                                                                                   \n",
      "                                                                                                  \n",
      " batch_normalization_360 (Batch  (None, 5, 5, 192)   576         ['conv2d_360[0][0]']             \n",
      " Normalization)                                                                                   \n",
      "                                                                                                  \n",
      " activation_353 (Activation)    (None, 5, 5, 320)    0           ['batch_normalization_356[0][0]']\n",
      "                                                                                                  \n",
      " activation_357 (Activation)    (None, 5, 5, 192)    0           ['batch_normalization_360[0][0]']\n",
      "                                                                                                  \n",
      " max_pooling2d_18 (MaxPooling2D  (None, 5, 5, 768)   0           ['mixed7[0][0]']                 \n",
      " )                                                                                                \n",
      "                                                                                                  \n",
      " mixed8 (Concatenate)           (None, 5, 5, 1280)   0           ['activation_353[0][0]',         \n",
      "                                                                  'activation_357[0][0]',         \n",
      "                                                                  'max_pooling2d_18[0][0]']       \n",
      "                                                                                                  \n",
      " conv2d_365 (Conv2D)            (None, 5, 5, 448)    573440      ['mixed8[0][0]']                 \n",
      "                                                                                                  \n",
      " batch_normalization_365 (Batch  (None, 5, 5, 448)   1344        ['conv2d_365[0][0]']             \n",
      " Normalization)                                                                                   \n",
      "                                                                                                  \n",
      " activation_362 (Activation)    (None, 5, 5, 448)    0           ['batch_normalization_365[0][0]']\n",
      "                                                                                                  \n",
      " conv2d_362 (Conv2D)            (None, 5, 5, 384)    491520      ['mixed8[0][0]']                 \n",
      "                                                                                                  \n",
      " conv2d_366 (Conv2D)            (None, 5, 5, 384)    1548288     ['activation_362[0][0]']         \n",
      "                                                                                                  \n",
      " batch_normalization_362 (Batch  (None, 5, 5, 384)   1152        ['conv2d_362[0][0]']             \n",
      " Normalization)                                                                                   \n",
      "                                                                                                  \n",
      " batch_normalization_366 (Batch  (None, 5, 5, 384)   1152        ['conv2d_366[0][0]']             \n",
      " Normalization)                                                                                   \n",
      "                                                                                                  \n",
      " activation_359 (Activation)    (None, 5, 5, 384)    0           ['batch_normalization_362[0][0]']\n",
      "                                                                                                  \n",
      " activation_363 (Activation)    (None, 5, 5, 384)    0           ['batch_normalization_366[0][0]']\n",
      "                                                                                                  \n",
      " conv2d_363 (Conv2D)            (None, 5, 5, 384)    442368      ['activation_359[0][0]']         \n",
      "                                                                                                  \n",
      " conv2d_364 (Conv2D)            (None, 5, 5, 384)    442368      ['activation_359[0][0]']         \n",
      "                                                                                                  \n",
      " conv2d_367 (Conv2D)            (None, 5, 5, 384)    442368      ['activation_363[0][0]']         \n",
      "                                                                                                  \n",
      " conv2d_368 (Conv2D)            (None, 5, 5, 384)    442368      ['activation_363[0][0]']         \n",
      "                                                                                                  \n",
      " average_pooling2d_34 (AverageP  (None, 5, 5, 1280)  0           ['mixed8[0][0]']                 \n",
      " ooling2D)                                                                                        \n",
      "                                                                                                  \n",
      " conv2d_361 (Conv2D)            (None, 5, 5, 320)    409600      ['mixed8[0][0]']                 \n",
      "                                                                                                  \n",
      " batch_normalization_363 (Batch  (None, 5, 5, 384)   1152        ['conv2d_363[0][0]']             \n",
      " Normalization)                                                                                   \n",
      "                                                                                                  \n",
      " batch_normalization_364 (Batch  (None, 5, 5, 384)   1152        ['conv2d_364[0][0]']             \n",
      " Normalization)                                                                                   \n",
      "                                                                                                  \n",
      " batch_normalization_367 (Batch  (None, 5, 5, 384)   1152        ['conv2d_367[0][0]']             \n",
      " Normalization)                                                                                   \n",
      "                                                                                                  \n",
      " batch_normalization_368 (Batch  (None, 5, 5, 384)   1152        ['conv2d_368[0][0]']             \n"
     ]
    },
    {
     "name": "stdout",
     "output_type": "stream",
     "text": [
      " Normalization)                                                                                   \n",
      "                                                                                                  \n",
      " conv2d_369 (Conv2D)            (None, 5, 5, 192)    245760      ['average_pooling2d_34[0][0]']   \n",
      "                                                                                                  \n",
      " batch_normalization_361 (Batch  (None, 5, 5, 320)   960         ['conv2d_361[0][0]']             \n",
      " Normalization)                                                                                   \n",
      "                                                                                                  \n",
      " activation_360 (Activation)    (None, 5, 5, 384)    0           ['batch_normalization_363[0][0]']\n",
      "                                                                                                  \n",
      " activation_361 (Activation)    (None, 5, 5, 384)    0           ['batch_normalization_364[0][0]']\n",
      "                                                                                                  \n",
      " activation_364 (Activation)    (None, 5, 5, 384)    0           ['batch_normalization_367[0][0]']\n",
      "                                                                                                  \n",
      " activation_365 (Activation)    (None, 5, 5, 384)    0           ['batch_normalization_368[0][0]']\n",
      "                                                                                                  \n",
      " batch_normalization_369 (Batch  (None, 5, 5, 192)   576         ['conv2d_369[0][0]']             \n",
      " Normalization)                                                                                   \n",
      "                                                                                                  \n",
      " activation_358 (Activation)    (None, 5, 5, 320)    0           ['batch_normalization_361[0][0]']\n",
      "                                                                                                  \n",
      " mixed9_0 (Concatenate)         (None, 5, 5, 768)    0           ['activation_360[0][0]',         \n",
      "                                                                  'activation_361[0][0]']         \n",
      "                                                                                                  \n",
      " concatenate_6 (Concatenate)    (None, 5, 5, 768)    0           ['activation_364[0][0]',         \n",
      "                                                                  'activation_365[0][0]']         \n",
      "                                                                                                  \n",
      " activation_366 (Activation)    (None, 5, 5, 192)    0           ['batch_normalization_369[0][0]']\n",
      "                                                                                                  \n",
      " mixed9 (Concatenate)           (None, 5, 5, 2048)   0           ['activation_358[0][0]',         \n",
      "                                                                  'mixed9_0[0][0]',               \n",
      "                                                                  'concatenate_6[0][0]',          \n",
      "                                                                  'activation_366[0][0]']         \n",
      "                                                                                                  \n",
      " conv2d_374 (Conv2D)            (None, 5, 5, 448)    917504      ['mixed9[0][0]']                 \n",
      "                                                                                                  \n",
      " batch_normalization_374 (Batch  (None, 5, 5, 448)   1344        ['conv2d_374[0][0]']             \n",
      " Normalization)                                                                                   \n",
      "                                                                                                  \n",
      " activation_371 (Activation)    (None, 5, 5, 448)    0           ['batch_normalization_374[0][0]']\n",
      "                                                                                                  \n",
      " conv2d_371 (Conv2D)            (None, 5, 5, 384)    786432      ['mixed9[0][0]']                 \n",
      "                                                                                                  \n",
      " conv2d_375 (Conv2D)            (None, 5, 5, 384)    1548288     ['activation_371[0][0]']         \n",
      "                                                                                                  \n",
      " batch_normalization_371 (Batch  (None, 5, 5, 384)   1152        ['conv2d_371[0][0]']             \n",
      " Normalization)                                                                                   \n",
      "                                                                                                  \n",
      " batch_normalization_375 (Batch  (None, 5, 5, 384)   1152        ['conv2d_375[0][0]']             \n",
      " Normalization)                                                                                   \n",
      "                                                                                                  \n",
      " activation_368 (Activation)    (None, 5, 5, 384)    0           ['batch_normalization_371[0][0]']\n",
      "                                                                                                  \n",
      " activation_372 (Activation)    (None, 5, 5, 384)    0           ['batch_normalization_375[0][0]']\n",
      "                                                                                                  \n",
      " conv2d_372 (Conv2D)            (None, 5, 5, 384)    442368      ['activation_368[0][0]']         \n",
      "                                                                                                  \n",
      " conv2d_373 (Conv2D)            (None, 5, 5, 384)    442368      ['activation_368[0][0]']         \n",
      "                                                                                                  \n",
      " conv2d_376 (Conv2D)            (None, 5, 5, 384)    442368      ['activation_372[0][0]']         \n",
      "                                                                                                  \n",
      " conv2d_377 (Conv2D)            (None, 5, 5, 384)    442368      ['activation_372[0][0]']         \n",
      "                                                                                                  \n",
      " average_pooling2d_35 (AverageP  (None, 5, 5, 2048)  0           ['mixed9[0][0]']                 \n",
      " ooling2D)                                                                                        \n",
      "                                                                                                  \n",
      " conv2d_370 (Conv2D)            (None, 5, 5, 320)    655360      ['mixed9[0][0]']                 \n",
      "                                                                                                  \n",
      " batch_normalization_372 (Batch  (None, 5, 5, 384)   1152        ['conv2d_372[0][0]']             \n",
      " Normalization)                                                                                   \n",
      "                                                                                                  \n",
      " batch_normalization_373 (Batch  (None, 5, 5, 384)   1152        ['conv2d_373[0][0]']             \n",
      " Normalization)                                                                                   \n",
      "                                                                                                  \n",
      " batch_normalization_376 (Batch  (None, 5, 5, 384)   1152        ['conv2d_376[0][0]']             \n",
      " Normalization)                                                                                   \n",
      "                                                                                                  \n",
      " batch_normalization_377 (Batch  (None, 5, 5, 384)   1152        ['conv2d_377[0][0]']             \n",
      " Normalization)                                                                                   \n",
      "                                                                                                  \n",
      " conv2d_378 (Conv2D)            (None, 5, 5, 192)    393216      ['average_pooling2d_35[0][0]']   \n",
      "                                                                                                  \n",
      " batch_normalization_370 (Batch  (None, 5, 5, 320)   960         ['conv2d_370[0][0]']             \n",
      " Normalization)                                                                                   \n"
     ]
    },
    {
     "name": "stdout",
     "output_type": "stream",
     "text": [
      "                                                                                                  \n",
      " activation_369 (Activation)    (None, 5, 5, 384)    0           ['batch_normalization_372[0][0]']\n",
      "                                                                                                  \n",
      " activation_370 (Activation)    (None, 5, 5, 384)    0           ['batch_normalization_373[0][0]']\n",
      "                                                                                                  \n",
      " activation_373 (Activation)    (None, 5, 5, 384)    0           ['batch_normalization_376[0][0]']\n",
      "                                                                                                  \n",
      " activation_374 (Activation)    (None, 5, 5, 384)    0           ['batch_normalization_377[0][0]']\n",
      "                                                                                                  \n",
      " batch_normalization_378 (Batch  (None, 5, 5, 192)   576         ['conv2d_378[0][0]']             \n",
      " Normalization)                                                                                   \n",
      "                                                                                                  \n",
      " activation_367 (Activation)    (None, 5, 5, 320)    0           ['batch_normalization_370[0][0]']\n",
      "                                                                                                  \n",
      " mixed9_1 (Concatenate)         (None, 5, 5, 768)    0           ['activation_369[0][0]',         \n",
      "                                                                  'activation_370[0][0]']         \n",
      "                                                                                                  \n",
      " concatenate_7 (Concatenate)    (None, 5, 5, 768)    0           ['activation_373[0][0]',         \n",
      "                                                                  'activation_374[0][0]']         \n",
      "                                                                                                  \n",
      " activation_375 (Activation)    (None, 5, 5, 192)    0           ['batch_normalization_378[0][0]']\n",
      "                                                                                                  \n",
      " mixed10 (Concatenate)          (None, 5, 5, 2048)   0           ['activation_367[0][0]',         \n",
      "                                                                  'mixed9_1[0][0]',               \n",
      "                                                                  'concatenate_7[0][0]',          \n",
      "                                                                  'activation_375[0][0]']         \n",
      "                                                                                                  \n",
      " max_pooling2d_19 (MaxPooling2D  (None, 1, 1, 2048)  0           ['mixed10[0][0]']                \n",
      " )                                                                                                \n",
      "                                                                                                  \n",
      " conv2d_379 (Conv2D)            (None, 1, 1, 224)    11469024    ['max_pooling2d_19[0][0]']       \n",
      "                                                                                                  \n",
      " batch_normalization_379 (Batch  (None, 1, 1, 224)   896         ['conv2d_379[0][0]']             \n",
      " Normalization)                                                                                   \n",
      "                                                                                                  \n",
      " flatten_2 (Flatten)            (None, 224)          0           ['batch_normalization_379[0][0]']\n",
      "                                                                                                  \n",
      " dense_4 (Dense)                (None, 4096)         921600      ['flatten_2[0][0]']              \n",
      "                                                                                                  \n",
      " dropout_2 (Dropout)            (None, 4096)         0           ['dense_4[0][0]']                \n",
      "                                                                                                  \n",
      " dense_5 (Dense)                (None, 2)            8194        ['dropout_2[0][0]']              \n",
      "                                                                                                  \n",
      "==================================================================================================\n",
      "Total params: 34,202,498\n",
      "Trainable params: 12,399,266\n",
      "Non-trainable params: 21,803,232\n",
      "__________________________________________________________________________________________________\n"
     ]
    }
   ],
   "source": [
    "mod_inceptionv3.summary()"
   ]
  },
  {
   "cell_type": "markdown",
   "id": "52d4311f",
   "metadata": {},
   "source": [
    "Let's now **define** binary cross-entropy and adam as the loss function and optimizer to be used for model optimization. We will use the `compile()` function of the created model to do this. For the metrics, we only need the `accuracy` to see how the model has performed."
   ]
  },
  {
   "cell_type": "code",
   "execution_count": 36,
   "id": "9cfa8f2f",
   "metadata": {},
   "outputs": [],
   "source": [
    "mod_inceptionv3.compile(loss=\"binary_crossentropy\", optimizer=\"adam\", metrics=[\"binary_accuracy\"])"
   ]
  },
  {
   "cell_type": "markdown",
   "id": "cf682b52",
   "metadata": {},
   "source": [
    "For the training setup, we will be using the same setup as the other models used in this notebook."
   ]
  },
  {
   "cell_type": "code",
   "execution_count": 37,
   "id": "a60010a6",
   "metadata": {},
   "outputs": [
    {
     "name": "stdout",
     "output_type": "stream",
     "text": [
      "Epoch 1/50\n",
      "69/69 [==============================] - 247s 4s/step - loss: 0.5059 - binary_accuracy: 0.7531 - val_loss: 0.9418 - val_binary_accuracy: 0.6943\n",
      "Epoch 2/50\n",
      "69/69 [==============================] - 242s 4s/step - loss: 0.3394 - binary_accuracy: 0.8478 - val_loss: 0.5647 - val_binary_accuracy: 0.7810\n",
      "Epoch 3/50\n",
      "69/69 [==============================] - 241s 4s/step - loss: 0.2648 - binary_accuracy: 0.8941 - val_loss: 0.5607 - val_binary_accuracy: 0.7628\n",
      "Epoch 4/50\n",
      "69/69 [==============================] - 243s 4s/step - loss: 0.2116 - binary_accuracy: 0.9137 - val_loss: 0.6573 - val_binary_accuracy: 0.7792\n",
      "Epoch 5/50\n",
      "69/69 [==============================] - 234s 3s/step - loss: 0.1712 - binary_accuracy: 0.9338 - val_loss: 0.7367 - val_binary_accuracy: 0.7153\n",
      "Epoch 6/50\n",
      "69/69 [==============================] - 237s 3s/step - loss: 0.1391 - binary_accuracy: 0.9455 - val_loss: 1.4070 - val_binary_accuracy: 0.7035\n",
      "Epoch 7/50\n",
      "69/69 [==============================] - 255s 4s/step - loss: 0.1085 - binary_accuracy: 0.9597 - val_loss: 0.7777 - val_binary_accuracy: 0.7637\n",
      "Epoch 8/50\n",
      "69/69 [==============================] - 248s 4s/step - loss: 0.1078 - binary_accuracy: 0.9603 - val_loss: 0.4632 - val_binary_accuracy: 0.8467\n",
      "Epoch 9/50\n",
      "69/69 [==============================] - 244s 4s/step - loss: 0.0741 - binary_accuracy: 0.9724 - val_loss: 0.7693 - val_binary_accuracy: 0.8139\n",
      "Epoch 10/50\n",
      "69/69 [==============================] - 243s 4s/step - loss: 0.0682 - binary_accuracy: 0.9770 - val_loss: 1.1827 - val_binary_accuracy: 0.7746\n",
      "Epoch 11/50\n",
      "69/69 [==============================] - 239s 3s/step - loss: 0.0680 - binary_accuracy: 0.9779 - val_loss: 1.1079 - val_binary_accuracy: 0.7609\n",
      "Epoch 12/50\n",
      "69/69 [==============================] - 243s 4s/step - loss: 0.0564 - binary_accuracy: 0.9789 - val_loss: 0.7107 - val_binary_accuracy: 0.8485\n",
      "Epoch 13/50\n",
      "69/69 [==============================] - 243s 4s/step - loss: 0.0639 - binary_accuracy: 0.9775 - val_loss: 1.4995 - val_binary_accuracy: 0.7546\n"
     ]
    },
    {
     "data": {
      "text/plain": [
       "<keras.callbacks.History at 0x17744bd6a60>"
      ]
     },
     "execution_count": 37,
     "metadata": {},
     "output_type": "execute_result"
    }
   ],
   "source": [
    "mod_inceptionv3.fit(X_train, y_train, batch_size=64, epochs=50, validation_data=(X_val, y_val), callbacks=[es])"
   ]
  },
  {
   "cell_type": "markdown",
   "id": "5580b184",
   "metadata": {},
   "source": [
    "_TODO: Train Evaluation_"
   ]
  },
  {
   "cell_type": "code",
   "execution_count": 38,
   "id": "768787dc",
   "metadata": {},
   "outputs": [
    {
     "name": "stdout",
     "output_type": "stream",
     "text": [
      "137/137 [==============================] - 157s 1s/step - loss: 0.1234 - binary_accuracy: 0.9497\n"
     ]
    },
    {
     "data": {
      "text/plain": [
       "[0.12337657809257507, 0.949680507183075]"
      ]
     },
     "execution_count": 38,
     "metadata": {},
     "output_type": "execute_result"
    }
   ],
   "source": [
    "mod_inceptionv3.evaluate(X_train, y_train)"
   ]
  },
  {
   "cell_type": "markdown",
   "id": "182eae8f",
   "metadata": {},
   "source": [
    "_TODO: Test Evaluation_"
   ]
  },
  {
   "cell_type": "code",
   "execution_count": 39,
   "id": "e9df9426",
   "metadata": {},
   "outputs": [
    {
     "name": "stdout",
     "output_type": "stream",
     "text": [
      "18/18 [==============================] - 19s 1s/step - loss: 0.5415 - binary_accuracy: 0.8385\n"
     ]
    },
    {
     "data": {
      "text/plain": [
       "[0.5415433049201965, 0.8385036587715149]"
      ]
     },
     "execution_count": 39,
     "metadata": {},
     "output_type": "execute_result"
    }
   ],
   "source": [
    "mod_inceptionv3.evaluate(X_test, y_test)"
   ]
  },
  {
   "cell_type": "code",
   "execution_count": 26,
   "id": "2e08b973",
   "metadata": {},
   "outputs": [
    {
     "name": "stderr",
     "output_type": "stream",
     "text": [
      "WARNING:absl:Found untraced functions such as _jit_compiled_convolution_op, _jit_compiled_convolution_op, _jit_compiled_convolution_op, _jit_compiled_convolution_op, _jit_compiled_convolution_op while saving (showing 5 of 95). These functions will not be directly callable after loading.\n"
     ]
    },
    {
     "name": "stdout",
     "output_type": "stream",
     "text": [
      "INFO:tensorflow:Assets written to: mod_inceptionv3_1\\assets\n"
     ]
    },
    {
     "name": "stderr",
     "output_type": "stream",
     "text": [
      "INFO:tensorflow:Assets written to: mod_inceptionv3_1\\assets\n"
     ]
    }
   ],
   "source": [
    "mod_inceptionv3.save('mod_inceptionv3_2')"
   ]
  },
  {
   "cell_type": "markdown",
   "id": "83d5c8ac",
   "metadata": {},
   "source": [
    "## **Model Selection**"
   ]
  },
  {
   "cell_type": "code",
   "execution_count": null,
   "id": "b35d159f",
   "metadata": {},
   "outputs": [],
   "source": []
  },
  {
   "cell_type": "markdown",
   "id": "7afedbf6",
   "metadata": {},
   "source": [
    "## **Data Augmentation**"
   ]
  },
  {
   "cell_type": "markdown",
   "id": "ad1c43f2",
   "metadata": {},
   "source": [
    "##### **TODO: To be done after getting the best CNN model. In this section, we will check if augmenting the data (creating new instances by rotating, flipping, and transforming images) can improve the accuracy of the best model.**"
   ]
  },
  {
   "cell_type": "code",
   "execution_count": null,
   "id": "1125dad1",
   "metadata": {},
   "outputs": [],
   "source": []
  },
  {
   "cell_type": "markdown",
   "id": "9c03e4d3",
   "metadata": {},
   "source": [
    "## **Insights and Conclusion**"
   ]
  },
  {
   "cell_type": "code",
   "execution_count": null,
   "id": "7dd97235",
   "metadata": {},
   "outputs": [],
   "source": []
  },
  {
   "cell_type": "markdown",
   "id": "242873f1",
   "metadata": {},
   "source": [
    "## **References**"
   ]
  },
  {
   "cell_type": "markdown",
   "id": "03ee5637",
   "metadata": {},
   "source": [
    "##### **TODO: Do APA format citation for the references, as well as include in-text citations in the previous markdown cells. Remove this cell afterwards once done.**"
   ]
  },
  {
   "cell_type": "markdown",
   "id": "d9157003",
   "metadata": {},
   "source": [
    "* [Tom and Jerry Image Classification Dataset (Kaggle)](https://www.kaggle.com/datasets/balabaskar/tom-and-jerry-image-classification)\n",
    "* [EDA for Image Classification](https://medium.com/geekculture/eda-for-image-classification-dcada9f2567a)\n",
    "* [Basic EDA with Images](https://www.kaggle.com/code/jpmiller/basic-eda-with-images/notebook)\n",
    "* [Multi-label image classification vs. object detection](https://stackoverflow.com/questions/66337588/multi-label-image-classification-vs-object-detection)\n",
    "* [Multilabel Image Classification using Deep Learning](https://www.mathworks.com/help/deeplearning/ug/multilabel-image-classification-using-deep-learning.html)\n",
    "* [Multi-Label Image Classification Classification with Neural Network | Keras](https://towardsdatascience.com/multi-label-image-classification-with-neural-network-keras-ddc1ab1afede)\n",
    "* [Why are Convolutional Neural Networks good for image classification?](https://medium.datadriveninvestor.com/why-are-convolutional-neural-networks-good-for-image-classification-146ec6e865e8)\n",
    "* [The 4 Convolutional Neural Network Models That Can Classify Your Fashion Images](https://towardsdatascience.com/the-4-convolutional-neural-network-models-that-can-classify-your-fashion-images-9fe7f3e5399d)\n",
    "* [Multi-label vs Multi-class Classification: Sigmoid vs Softmax](https://glassboxmedicine.com/2019/05/26/classification-sigmoid-vs-softmax/)\n",
    "* [Understanding the Amazon Rainforest with Multi-Label Classification + VGG-19, Inceptionv3, AlexNet & Transfer Learning](https://towardsdatascience.com/understanding-the-amazon-rainforest-with-multi-label-classification-vgg-19-inceptionv3-5084544fb655)\n",
    "* [Keras API reference](https://keras.io/api/)\n",
    "* [Choose optimal number of epochs to train a neural network in Keras](https://www.geeksforgeeks.org/choose-optimal-number-of-epochs-to-train-a-neural-network-in-keras/)"
   ]
  },
  {
   "cell_type": "code",
   "execution_count": null,
   "id": "7604c113",
   "metadata": {},
   "outputs": [],
   "source": []
  },
  {
   "cell_type": "code",
   "execution_count": 1,
   "id": "44e76ef3",
   "metadata": {},
   "outputs": [],
   "source": [
    "# import tensorflow as tf"
   ]
  },
  {
   "cell_type": "code",
   "execution_count": 2,
   "id": "7032cd2a",
   "metadata": {},
   "outputs": [
    {
     "name": "stdout",
     "output_type": "stream",
     "text": [
      "Num GPUs Available:  1\n"
     ]
    }
   ],
   "source": [
    "# print(\"Num GPUs Available: \", len(tf.config.list_physical_devices('GPU')))"
   ]
  }
 ],
 "metadata": {
  "kernelspec": {
   "display_name": "Python 3 (ipykernel)",
   "language": "python",
   "name": "python3"
  },
  "language_info": {
   "codemirror_mode": {
    "name": "ipython",
    "version": 3
   },
   "file_extension": ".py",
   "mimetype": "text/x-python",
   "name": "python",
   "nbconvert_exporter": "python",
   "pygments_lexer": "ipython3",
   "version": "3.9.7"
  }
 },
 "nbformat": 4,
 "nbformat_minor": 5
}
